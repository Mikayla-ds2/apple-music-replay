{
 "cells": [
  {
   "cell_type": "code",
   "execution_count": 17,
   "metadata": {},
   "outputs": [],
   "source": [
    "import pandas as pd"
   ]
  },
  {
   "cell_type": "code",
   "execution_count": 19,
   "metadata": {},
   "outputs": [],
   "source": [
    "data = pd.read_csv('Apple Music - Play History Daily Tracks.csv')"
   ]
  },
  {
   "cell_type": "code",
   "execution_count": 21,
   "metadata": {},
   "outputs": [
    {
     "data": {
      "text/html": [
       "<div>\n",
       "<style scoped>\n",
       "    .dataframe tbody tr th:only-of-type {\n",
       "        vertical-align: middle;\n",
       "    }\n",
       "\n",
       "    .dataframe tbody tr th {\n",
       "        vertical-align: top;\n",
       "    }\n",
       "\n",
       "    .dataframe thead th {\n",
       "        text-align: right;\n",
       "    }\n",
       "</style>\n",
       "<table border=\"1\" class=\"dataframe\">\n",
       "  <thead>\n",
       "    <tr style=\"text-align: right;\">\n",
       "      <th></th>\n",
       "      <th>Country</th>\n",
       "      <th>Track Identifier</th>\n",
       "      <th>Media type</th>\n",
       "      <th>Date Played</th>\n",
       "      <th>Hours</th>\n",
       "      <th>Play Duration Milliseconds</th>\n",
       "      <th>End Reason Type</th>\n",
       "      <th>Source Type</th>\n",
       "      <th>Play Count</th>\n",
       "      <th>Skip Count</th>\n",
       "      <th>Track Reference</th>\n",
       "      <th>Track Description</th>\n",
       "    </tr>\n",
       "  </thead>\n",
       "  <tbody>\n",
       "    <tr>\n",
       "      <th>0</th>\n",
       "      <td>United States</td>\n",
       "      <td>1466328298</td>\n",
       "      <td>AUDIO</td>\n",
       "      <td>20191226</td>\n",
       "      <td>16</td>\n",
       "      <td>203272</td>\n",
       "      <td>PLAYBACK_MANUALLY_PAUSED</td>\n",
       "      <td>IPHONE</td>\n",
       "      <td>1</td>\n",
       "      <td>0</td>\n",
       "      <td>1.466328e+09</td>\n",
       "      <td>Key Glock - Spazzing Out</td>\n",
       "    </tr>\n",
       "    <tr>\n",
       "      <th>1</th>\n",
       "      <td>United States</td>\n",
       "      <td>1466328298</td>\n",
       "      <td>AUDIO</td>\n",
       "      <td>20191227</td>\n",
       "      <td>6</td>\n",
       "      <td>517320</td>\n",
       "      <td>MANUALLY_SELECTED_PLAYBACK_OF_A_DIFF_ITEM</td>\n",
       "      <td>IPHONE</td>\n",
       "      <td>3</td>\n",
       "      <td>1</td>\n",
       "      <td>1.466328e+09</td>\n",
       "      <td>Key Glock - Spazzing Out</td>\n",
       "    </tr>\n",
       "    <tr>\n",
       "      <th>2</th>\n",
       "      <td>United States</td>\n",
       "      <td>1466328298</td>\n",
       "      <td>AUDIO</td>\n",
       "      <td>20191227</td>\n",
       "      <td>18</td>\n",
       "      <td>517320</td>\n",
       "      <td>MANUALLY_SELECTED_PLAYBACK_OF_A_DIFF_ITEM</td>\n",
       "      <td>IPHONE</td>\n",
       "      <td>3</td>\n",
       "      <td>1</td>\n",
       "      <td>1.466328e+09</td>\n",
       "      <td>Key Glock - Spazzing Out</td>\n",
       "    </tr>\n",
       "    <tr>\n",
       "      <th>3</th>\n",
       "      <td>United States</td>\n",
       "      <td>1482953532</td>\n",
       "      <td>AUDIO</td>\n",
       "      <td>20191227</td>\n",
       "      <td>6</td>\n",
       "      <td>362874</td>\n",
       "      <td>NATURAL_END_OF_TRACK</td>\n",
       "      <td>IPHONE</td>\n",
       "      <td>2</td>\n",
       "      <td>1</td>\n",
       "      <td>1.482954e+09</td>\n",
       "      <td>YoungBoy Never Broke Again - In Control</td>\n",
       "    </tr>\n",
       "    <tr>\n",
       "      <th>4</th>\n",
       "      <td>United States</td>\n",
       "      <td>1482953532</td>\n",
       "      <td>AUDIO</td>\n",
       "      <td>20191227</td>\n",
       "      <td>18</td>\n",
       "      <td>362874</td>\n",
       "      <td>NATURAL_END_OF_TRACK</td>\n",
       "      <td>IPHONE</td>\n",
       "      <td>2</td>\n",
       "      <td>1</td>\n",
       "      <td>1.482954e+09</td>\n",
       "      <td>YoungBoy Never Broke Again - In Control</td>\n",
       "    </tr>\n",
       "  </tbody>\n",
       "</table>\n",
       "</div>"
      ],
      "text/plain": [
       "         Country  Track Identifier Media type  Date Played Hours  \\\n",
       "0  United States        1466328298      AUDIO     20191226    16   \n",
       "1  United States        1466328298      AUDIO     20191227     6   \n",
       "2  United States        1466328298      AUDIO     20191227    18   \n",
       "3  United States        1482953532      AUDIO     20191227     6   \n",
       "4  United States        1482953532      AUDIO     20191227    18   \n",
       "\n",
       "   Play Duration Milliseconds                            End Reason Type  \\\n",
       "0                      203272                   PLAYBACK_MANUALLY_PAUSED   \n",
       "1                      517320  MANUALLY_SELECTED_PLAYBACK_OF_A_DIFF_ITEM   \n",
       "2                      517320  MANUALLY_SELECTED_PLAYBACK_OF_A_DIFF_ITEM   \n",
       "3                      362874                       NATURAL_END_OF_TRACK   \n",
       "4                      362874                       NATURAL_END_OF_TRACK   \n",
       "\n",
       "  Source Type  Play Count  Skip Count  Track Reference  \\\n",
       "0      IPHONE           1           0     1.466328e+09   \n",
       "1      IPHONE           3           1     1.466328e+09   \n",
       "2      IPHONE           3           1     1.466328e+09   \n",
       "3      IPHONE           2           1     1.482954e+09   \n",
       "4      IPHONE           2           1     1.482954e+09   \n",
       "\n",
       "                         Track Description  \n",
       "0                 Key Glock - Spazzing Out  \n",
       "1                 Key Glock - Spazzing Out  \n",
       "2                 Key Glock - Spazzing Out  \n",
       "3  YoungBoy Never Broke Again - In Control  \n",
       "4  YoungBoy Never Broke Again - In Control  "
      ]
     },
     "execution_count": 21,
     "metadata": {},
     "output_type": "execute_result"
    }
   ],
   "source": [
    "data.head()"
   ]
  },
  {
   "cell_type": "code",
   "execution_count": 22,
   "metadata": {},
   "outputs": [],
   "source": [
    "def split_hours(row): \n",
    "    hours = str(row['Hours']).split(', ')\n",
    "    rows = []\n",
    "    for hour in hours:\n",
    "        new_row = row.copy()\n",
    "        new_row['Hours'] = hour.strip()\n",
    "        rows.append(new_row)\n",
    "    return rows"
   ]
  },
  {
   "cell_type": "code",
   "execution_count": 23,
   "metadata": {},
   "outputs": [],
   "source": [
    "expanded_data = data.apply(lambda row: split_hours(row), axis=1)\n",
    "expanded_data = [item for sublist in expanded_data for item in sublist]"
   ]
  },
  {
   "cell_type": "code",
   "execution_count": 24,
   "metadata": {},
   "outputs": [],
   "source": [
    "expanded_df = pd.DataFrame(expanded_data)"
   ]
  }
 ],
 "metadata": {
  "kernelspec": {
   "display_name": "Python 3",
   "language": "python",
   "name": "python3"
  },
  "language_info": {
   "codemirror_mode": {
    "name": "ipython",
    "version": 3
   },
   "file_extension": ".py",
   "mimetype": "text/x-python",
   "name": "python",
   "nbconvert_exporter": "python",
   "pygments_lexer": "ipython3",
   "version": "3.9.6"
  }
 },
 "nbformat": 4,
 "nbformat_minor": 2
}
