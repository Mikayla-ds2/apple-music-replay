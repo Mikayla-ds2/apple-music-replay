{
 "cells": [
  {
   "cell_type": "code",
   "execution_count": 17,
   "metadata": {},
   "outputs": [],
   "source": [
    "import pandas as pd"
   ]
  },
  {
   "cell_type": "code",
   "execution_count": 19,
   "metadata": {},
   "outputs": [],
   "source": [
    "data = pd.read_csv('Apple Music - Play History Daily Tracks.csv')"
   ]
  },
  {
   "cell_type": "code",
   "execution_count": 21,
   "metadata": {},
   "outputs": [
    {
     "data": {
      "text/html": [
       "<div>\n",
       "<style scoped>\n",
       "    .dataframe tbody tr th:only-of-type {\n",
       "        vertical-align: middle;\n",
       "    }\n",
       "\n",
       "    .dataframe tbody tr th {\n",
       "        vertical-align: top;\n",
       "    }\n",
       "\n",
       "    .dataframe thead th {\n",
       "        text-align: right;\n",
       "    }\n",
       "</style>\n",
       "<table border=\"1\" class=\"dataframe\">\n",
       "  <thead>\n",
       "    <tr style=\"text-align: right;\">\n",
       "      <th></th>\n",
       "      <th>Country</th>\n",
       "      <th>Track Identifier</th>\n",
       "      <th>Media type</th>\n",
       "      <th>Date Played</th>\n",
       "      <th>Hours</th>\n",
       "      <th>Play Duration Milliseconds</th>\n",
       "      <th>End Reason Type</th>\n",
       "      <th>Source Type</th>\n",
       "      <th>Play Count</th>\n",
       "      <th>Skip Count</th>\n",
       "      <th>Track Reference</th>\n",
       "      <th>Track Description</th>\n",
       "    </tr>\n",
       "  </thead>\n",
       "  <tbody>\n",
       "    <tr>\n",
       "      <th>0</th>\n",
       "      <td>United States</td>\n",
       "      <td>1466328298</td>\n",
       "      <td>AUDIO</td>\n",
       "      <td>20191226</td>\n",
       "      <td>16</td>\n",
       "      <td>203272</td>\n",
       "      <td>PLAYBACK_MANUALLY_PAUSED</td>\n",
       "      <td>IPHONE</td>\n",
       "      <td>1</td>\n",
       "      <td>0</td>\n",
       "      <td>1.466328e+09</td>\n",
       "      <td>Key Glock - Spazzing Out</td>\n",
       "    </tr>\n",
       "    <tr>\n",
       "      <th>1</th>\n",
       "      <td>United States</td>\n",
       "      <td>1466328298</td>\n",
       "      <td>AUDIO</td>\n",
       "      <td>20191227</td>\n",
       "      <td>6</td>\n",
       "      <td>517320</td>\n",
       "      <td>MANUALLY_SELECTED_PLAYBACK_OF_A_DIFF_ITEM</td>\n",
       "      <td>IPHONE</td>\n",
       "      <td>3</td>\n",
       "      <td>1</td>\n",
       "      <td>1.466328e+09</td>\n",
       "      <td>Key Glock - Spazzing Out</td>\n",
       "    </tr>\n",
       "    <tr>\n",
       "      <th>2</th>\n",
       "      <td>United States</td>\n",
       "      <td>1466328298</td>\n",
       "      <td>AUDIO</td>\n",
       "      <td>20191227</td>\n",
       "      <td>18</td>\n",
       "      <td>517320</td>\n",
       "      <td>MANUALLY_SELECTED_PLAYBACK_OF_A_DIFF_ITEM</td>\n",
       "      <td>IPHONE</td>\n",
       "      <td>3</td>\n",
       "      <td>1</td>\n",
       "      <td>1.466328e+09</td>\n",
       "      <td>Key Glock - Spazzing Out</td>\n",
       "    </tr>\n",
       "    <tr>\n",
       "      <th>3</th>\n",
       "      <td>United States</td>\n",
       "      <td>1482953532</td>\n",
       "      <td>AUDIO</td>\n",
       "      <td>20191227</td>\n",
       "      <td>6</td>\n",
       "      <td>362874</td>\n",
       "      <td>NATURAL_END_OF_TRACK</td>\n",
       "      <td>IPHONE</td>\n",
       "      <td>2</td>\n",
       "      <td>1</td>\n",
       "      <td>1.482954e+09</td>\n",
       "      <td>YoungBoy Never Broke Again - In Control</td>\n",
       "    </tr>\n",
       "    <tr>\n",
       "      <th>4</th>\n",
       "      <td>United States</td>\n",
       "      <td>1482953532</td>\n",
       "      <td>AUDIO</td>\n",
       "      <td>20191227</td>\n",
       "      <td>18</td>\n",
       "      <td>362874</td>\n",
       "      <td>NATURAL_END_OF_TRACK</td>\n",
       "      <td>IPHONE</td>\n",
       "      <td>2</td>\n",
       "      <td>1</td>\n",
       "      <td>1.482954e+09</td>\n",
       "      <td>YoungBoy Never Broke Again - In Control</td>\n",
       "    </tr>\n",
       "  </tbody>\n",
       "</table>\n",
       "</div>"
      ],
      "text/plain": [
       "         Country  Track Identifier Media type  Date Played Hours  \\\n",
       "0  United States        1466328298      AUDIO     20191226    16   \n",
       "1  United States        1466328298      AUDIO     20191227     6   \n",
       "2  United States        1466328298      AUDIO     20191227    18   \n",
       "3  United States        1482953532      AUDIO     20191227     6   \n",
       "4  United States        1482953532      AUDIO     20191227    18   \n",
       "\n",
       "   Play Duration Milliseconds                            End Reason Type  \\\n",
       "0                      203272                   PLAYBACK_MANUALLY_PAUSED   \n",
       "1                      517320  MANUALLY_SELECTED_PLAYBACK_OF_A_DIFF_ITEM   \n",
       "2                      517320  MANUALLY_SELECTED_PLAYBACK_OF_A_DIFF_ITEM   \n",
       "3                      362874                       NATURAL_END_OF_TRACK   \n",
       "4                      362874                       NATURAL_END_OF_TRACK   \n",
       "\n",
       "  Source Type  Play Count  Skip Count  Track Reference  \\\n",
       "0      IPHONE           1           0     1.466328e+09   \n",
       "1      IPHONE           3           1     1.466328e+09   \n",
       "2      IPHONE           3           1     1.466328e+09   \n",
       "3      IPHONE           2           1     1.482954e+09   \n",
       "4      IPHONE           2           1     1.482954e+09   \n",
       "\n",
       "                         Track Description  \n",
       "0                 Key Glock - Spazzing Out  \n",
       "1                 Key Glock - Spazzing Out  \n",
       "2                 Key Glock - Spazzing Out  \n",
       "3  YoungBoy Never Broke Again - In Control  \n",
       "4  YoungBoy Never Broke Again - In Control  "
      ]
     },
     "execution_count": 21,
     "metadata": {},
     "output_type": "execute_result"
    }
   ],
   "source": [
    "data.head()"
   ]
  },
  {
   "cell_type": "code",
   "execution_count": 22,
   "metadata": {},
   "outputs": [],
   "source": [
    "def split_hours(row): \n",
    "    hours = str(row['Hours']).split(', ')\n",
    "    rows = []\n",
    "    for hour in hours:\n",
    "        new_row = row.copy()\n",
    "        new_row['Hours'] = hour.strip()\n",
    "        rows.append(new_row)\n",
    "    return rows"
   ]
  },
  {
   "cell_type": "code",
   "execution_count": 23,
   "metadata": {},
   "outputs": [],
   "source": [
    "expanded_data = data.apply(lambda row: split_hours(row), axis=1)\n",
    "expanded_data = [item for sublist in expanded_data for item in sublist]"
   ]
  },
  {
   "cell_type": "code",
   "execution_count": 24,
   "metadata": {},
   "outputs": [],
   "source": [
    "expanded_df = pd.DataFrame(expanded_data)"
   ]
  },
  {
   "cell_type": "code",
   "execution_count": 25,
   "metadata": {},
   "outputs": [
    {
     "data": {
      "text/html": [
       "<div>\n",
       "<style scoped>\n",
       "    .dataframe tbody tr th:only-of-type {\n",
       "        vertical-align: middle;\n",
       "    }\n",
       "\n",
       "    .dataframe tbody tr th {\n",
       "        vertical-align: top;\n",
       "    }\n",
       "\n",
       "    .dataframe thead th {\n",
       "        text-align: right;\n",
       "    }\n",
       "</style>\n",
       "<table border=\"1\" class=\"dataframe\">\n",
       "  <thead>\n",
       "    <tr style=\"text-align: right;\">\n",
       "      <th></th>\n",
       "      <th>Country</th>\n",
       "      <th>Track Identifier</th>\n",
       "      <th>Media type</th>\n",
       "      <th>Date Played</th>\n",
       "      <th>Hours</th>\n",
       "      <th>Play Duration Milliseconds</th>\n",
       "      <th>End Reason Type</th>\n",
       "      <th>Source Type</th>\n",
       "      <th>Play Count</th>\n",
       "      <th>Skip Count</th>\n",
       "      <th>Track Reference</th>\n",
       "      <th>Track Description</th>\n",
       "    </tr>\n",
       "  </thead>\n",
       "  <tbody>\n",
       "    <tr>\n",
       "      <th>0</th>\n",
       "      <td>United States</td>\n",
       "      <td>1466328298</td>\n",
       "      <td>AUDIO</td>\n",
       "      <td>20191226</td>\n",
       "      <td>16</td>\n",
       "      <td>203272</td>\n",
       "      <td>PLAYBACK_MANUALLY_PAUSED</td>\n",
       "      <td>IPHONE</td>\n",
       "      <td>1</td>\n",
       "      <td>0</td>\n",
       "      <td>1.466328e+09</td>\n",
       "      <td>Key Glock - Spazzing Out</td>\n",
       "    </tr>\n",
       "    <tr>\n",
       "      <th>1</th>\n",
       "      <td>United States</td>\n",
       "      <td>1466328298</td>\n",
       "      <td>AUDIO</td>\n",
       "      <td>20191227</td>\n",
       "      <td>6</td>\n",
       "      <td>517320</td>\n",
       "      <td>MANUALLY_SELECTED_PLAYBACK_OF_A_DIFF_ITEM</td>\n",
       "      <td>IPHONE</td>\n",
       "      <td>3</td>\n",
       "      <td>1</td>\n",
       "      <td>1.466328e+09</td>\n",
       "      <td>Key Glock - Spazzing Out</td>\n",
       "    </tr>\n",
       "    <tr>\n",
       "      <th>2</th>\n",
       "      <td>United States</td>\n",
       "      <td>1466328298</td>\n",
       "      <td>AUDIO</td>\n",
       "      <td>20191227</td>\n",
       "      <td>18</td>\n",
       "      <td>517320</td>\n",
       "      <td>MANUALLY_SELECTED_PLAYBACK_OF_A_DIFF_ITEM</td>\n",
       "      <td>IPHONE</td>\n",
       "      <td>3</td>\n",
       "      <td>1</td>\n",
       "      <td>1.466328e+09</td>\n",
       "      <td>Key Glock - Spazzing Out</td>\n",
       "    </tr>\n",
       "    <tr>\n",
       "      <th>3</th>\n",
       "      <td>United States</td>\n",
       "      <td>1482953532</td>\n",
       "      <td>AUDIO</td>\n",
       "      <td>20191227</td>\n",
       "      <td>6</td>\n",
       "      <td>362874</td>\n",
       "      <td>NATURAL_END_OF_TRACK</td>\n",
       "      <td>IPHONE</td>\n",
       "      <td>2</td>\n",
       "      <td>1</td>\n",
       "      <td>1.482954e+09</td>\n",
       "      <td>YoungBoy Never Broke Again - In Control</td>\n",
       "    </tr>\n",
       "    <tr>\n",
       "      <th>4</th>\n",
       "      <td>United States</td>\n",
       "      <td>1482953532</td>\n",
       "      <td>AUDIO</td>\n",
       "      <td>20191227</td>\n",
       "      <td>18</td>\n",
       "      <td>362874</td>\n",
       "      <td>NATURAL_END_OF_TRACK</td>\n",
       "      <td>IPHONE</td>\n",
       "      <td>2</td>\n",
       "      <td>1</td>\n",
       "      <td>1.482954e+09</td>\n",
       "      <td>YoungBoy Never Broke Again - In Control</td>\n",
       "    </tr>\n",
       "  </tbody>\n",
       "</table>\n",
       "</div>"
      ],
      "text/plain": [
       "         Country  Track Identifier Media type  Date Played Hours  \\\n",
       "0  United States        1466328298      AUDIO     20191226    16   \n",
       "1  United States        1466328298      AUDIO     20191227     6   \n",
       "2  United States        1466328298      AUDIO     20191227    18   \n",
       "3  United States        1482953532      AUDIO     20191227     6   \n",
       "4  United States        1482953532      AUDIO     20191227    18   \n",
       "\n",
       "   Play Duration Milliseconds                            End Reason Type  \\\n",
       "0                      203272                   PLAYBACK_MANUALLY_PAUSED   \n",
       "1                      517320  MANUALLY_SELECTED_PLAYBACK_OF_A_DIFF_ITEM   \n",
       "2                      517320  MANUALLY_SELECTED_PLAYBACK_OF_A_DIFF_ITEM   \n",
       "3                      362874                       NATURAL_END_OF_TRACK   \n",
       "4                      362874                       NATURAL_END_OF_TRACK   \n",
       "\n",
       "  Source Type  Play Count  Skip Count  Track Reference  \\\n",
       "0      IPHONE           1           0     1.466328e+09   \n",
       "1      IPHONE           3           1     1.466328e+09   \n",
       "2      IPHONE           3           1     1.466328e+09   \n",
       "3      IPHONE           2           1     1.482954e+09   \n",
       "4      IPHONE           2           1     1.482954e+09   \n",
       "\n",
       "                         Track Description  \n",
       "0                 Key Glock - Spazzing Out  \n",
       "1                 Key Glock - Spazzing Out  \n",
       "2                 Key Glock - Spazzing Out  \n",
       "3  YoungBoy Never Broke Again - In Control  \n",
       "4  YoungBoy Never Broke Again - In Control  "
      ]
     },
     "execution_count": 25,
     "metadata": {},
     "output_type": "execute_result"
    }
   ],
   "source": [
    "expanded_df.head()"
   ]
  },
  {
   "cell_type": "code",
   "execution_count": 26,
   "metadata": {},
   "outputs": [
    {
     "name": "stdout",
     "output_type": "stream",
     "text": [
      "<class 'pandas.core.frame.DataFrame'>\n",
      "Index: 73329 entries, 0 to 60331\n",
      "Data columns (total 12 columns):\n",
      " #   Column                      Non-Null Count  Dtype  \n",
      "---  ------                      --------------  -----  \n",
      " 0   Country                     73329 non-null  object \n",
      " 1   Track Identifier            73329 non-null  int64  \n",
      " 2   Media type                  73329 non-null  object \n",
      " 3   Date Played                 73329 non-null  int64  \n",
      " 4   Hours                       73329 non-null  object \n",
      " 5   Play Duration Milliseconds  73329 non-null  int64  \n",
      " 6   End Reason Type             73329 non-null  object \n",
      " 7   Source Type                 73329 non-null  object \n",
      " 8   Play Count                  73329 non-null  int64  \n",
      " 9   Skip Count                  73329 non-null  int64  \n",
      " 10  Track Reference             69437 non-null  float64\n",
      " 11  Track Description           73327 non-null  object \n",
      "dtypes: float64(1), int64(5), object(6)\n",
      "memory usage: 7.3+ MB\n"
     ]
    }
   ],
   "source": [
    "expanded_df.info()"
   ]
  },
  {
   "cell_type": "code",
   "execution_count": 29,
   "metadata": {},
   "outputs": [],
   "source": [
    "expanded_df = expanded_df.drop(index=[11219,11715])"
   ]
  },
  {
   "cell_type": "code",
   "execution_count": 30,
   "metadata": {},
   "outputs": [
    {
     "data": {
      "text/plain": [
       "(73327, 12)"
      ]
     },
     "execution_count": 30,
     "metadata": {},
     "output_type": "execute_result"
    }
   ],
   "source": [
    "expanded_df.shape"
   ]
  },
  {
   "cell_type": "code",
   "execution_count": 31,
   "metadata": {},
   "outputs": [],
   "source": [
    "import json"
   ]
  },
  {
   "cell_type": "code",
   "execution_count": 32,
   "metadata": {},
   "outputs": [],
   "source": [
    "with open('Apple Music Library Tracks.json', 'r') as f:\n",
    "    library_data = json.load(f)\n",
    "library_df = pd.json_normalize(library_data)"
   ]
  },
  {
   "cell_type": "code",
   "execution_count": 33,
   "metadata": {},
   "outputs": [
    {
     "name": "stdout",
     "output_type": "stream",
     "text": [
      "Index(['Country', 'Track Identifier', 'Media type', 'Date Played', 'Hours',\n",
      "       'Play Duration Milliseconds', 'End Reason Type', 'Source Type',\n",
      "       'Play Count', 'Skip Count', 'Track Reference', 'Track Description'],\n",
      "      dtype='object')\n",
      "Index(['Content Type', 'Track Identifier', 'Title', 'Sort Name', 'Artist',\n",
      "       'Sort Artist', 'Composer', 'Is Part of Compilation', 'Album',\n",
      "       'Sort Album', 'Album Artist', 'Genre', 'Track Year',\n",
      "       'Track Number On Album', 'Track Count On Album', 'Disc Number Of Album',\n",
      "       'Disc Count Of Album', 'Track Duration', 'Track Play Count',\n",
      "       'Date Added To Library', 'Date Added To iCloud Music Library',\n",
      "       'Last Modified Date', 'Last Played Date', 'Skip Count',\n",
      "       'Date of Last Skip', 'Is Purchased', 'Audio File Extension',\n",
      "       'Is Checked', 'Copyright', 'Release Date', 'Purchased Track Identifier',\n",
      "       'Apple Music Track Identifier', 'Tag Matched Track Identifier',\n",
      "       'Playlist Only Track', 'Track Like Rating', 'Favorite Status - Track',\n",
      "       'Album Like Rating', 'Favorite Status - Album', 'Purchase Date',\n",
      "       'Audio Matched Track Identifier', 'Grouping', 'Favorite Date - Track',\n",
      "       'Rating', 'Album Rating', 'Remember Playback Position',\n",
      "       'Album Rating Method', 'Display Work Name', 'Comments',\n",
      "       'Beats Per Minute', 'Work Name', 'Movement Name', 'Movement Number',\n",
      "       'Movement Count'],\n",
      "      dtype='object')\n"
     ]
    }
   ],
   "source": [
    "print(expanded_df.columns)\n",
    "print(library_df.columns)"
   ]
  },
  {
   "cell_type": "code",
   "execution_count": 36,
   "metadata": {},
   "outputs": [],
   "source": [
    "columns_to_keep = [\n",
    "    'Track Identifier', 'Title', 'Artist', 'Album', 'Genre', \n",
    "    'Track Duration', 'Track Play Count', 'Skip Count', 'Date Added To Library', \n",
    "    'Release Date', 'Last Played Date', 'Favorite Date - Track'\n",
    "]"
   ]
  },
  {
   "cell_type": "code",
   "execution_count": 38,
   "metadata": {},
   "outputs": [],
   "source": [
    "cleaned_library_df = library_df[columns_to_keep]"
   ]
  },
  {
   "cell_type": "code",
   "execution_count": 40,
   "metadata": {},
   "outputs": [
    {
     "name": "stdout",
     "output_type": "stream",
     "text": [
      "   Track Identifier                     Title               Artist  \\\n",
      "0         182857262                     m.E.m              Co Cash   \n",
      "1         182857266              Spazzing Out            Key Glock   \n",
      "2         182857270  Cash Shit (feat. DaBaby)  Megan Thee Stallion   \n",
      "3         182857474                      Suge               DaBaby   \n",
      "4         182857478                Hallelujah                 T.I.   \n",
      "\n",
      "                                             Album        Genre  \\\n",
      "0                         Dapper Don - Side A - EP  Hip-Hop/Rap   \n",
      "1                            Spazzing Out - Single  Hip-Hop/Rap   \n",
      "2                                            Fever  Hip-Hop/Rap   \n",
      "3                                     Baby on Baby  Hip-Hop/Rap   \n",
      "4  Trouble Man: Heavy is the Head (Deluxe Version)          Rap   \n",
      "\n",
      "   Track Duration  Track Play Count  Skip Count Date Added To Library  \\\n",
      "0        174804.0                70           4  2019-12-26T21:33:09Z   \n",
      "1        194947.0                51           2  2019-12-26T21:33:17Z   \n",
      "2        192540.0                 1           1  2019-12-26T21:33:32Z   \n",
      "3        163320.0                 5           0  2019-12-26T21:33:46Z   \n",
      "4        204707.0                 1           0  2019-12-26T21:34:17Z   \n",
      "\n",
      "           Release Date      Last Played Date Favorite Date - Track  \n",
      "0  2019-11-15T12:00:00Z  2020-09-22T15:55:21Z                   NaN  \n",
      "1  2019-06-04T12:00:00Z  2020-06-23T23:45:44Z                   NaN  \n",
      "2  2019-05-17T07:00:00Z  2020-01-03T20:09:59Z                   NaN  \n",
      "3  2019-03-01T12:00:00Z  2020-06-08T17:54:36Z                   NaN  \n",
      "4  2012-12-18T12:00:00Z  2020-12-19T22:33:40Z                   NaN  \n"
     ]
    }
   ],
   "source": [
    "print(cleaned_library_df.head())"
   ]
  },
  {
   "cell_type": "code",
   "execution_count": 42,
   "metadata": {},
   "outputs": [],
   "source": [
    "cleaned_library_df.fillna('Unknown', inplace=True)"
   ]
  },
  {
   "cell_type": "code",
   "execution_count": 46,
   "metadata": {},
   "outputs": [
    {
     "data": {
      "text/html": [
       "<div>\n",
       "<style scoped>\n",
       "    .dataframe tbody tr th:only-of-type {\n",
       "        vertical-align: middle;\n",
       "    }\n",
       "\n",
       "    .dataframe tbody tr th {\n",
       "        vertical-align: top;\n",
       "    }\n",
       "\n",
       "    .dataframe thead th {\n",
       "        text-align: right;\n",
       "    }\n",
       "</style>\n",
       "<table border=\"1\" class=\"dataframe\">\n",
       "  <thead>\n",
       "    <tr style=\"text-align: right;\">\n",
       "      <th></th>\n",
       "      <th>Track Identifier</th>\n",
       "      <th>Title</th>\n",
       "      <th>Artist</th>\n",
       "      <th>Album</th>\n",
       "      <th>Genre</th>\n",
       "      <th>Track Duration</th>\n",
       "      <th>Track Play Count</th>\n",
       "      <th>Skip Count</th>\n",
       "      <th>Date Added To Library</th>\n",
       "      <th>Release Date</th>\n",
       "      <th>Last Played Date</th>\n",
       "      <th>Favorite Date - Track</th>\n",
       "    </tr>\n",
       "  </thead>\n",
       "  <tbody>\n",
       "    <tr>\n",
       "      <th>1496</th>\n",
       "      <td>182884646</td>\n",
       "      <td>Reminder</td>\n",
       "      <td>The Weeknd</td>\n",
       "      <td>Starboy</td>\n",
       "      <td>R&amp;B/Soul</td>\n",
       "      <td>218879.0</td>\n",
       "      <td>38</td>\n",
       "      <td>0</td>\n",
       "      <td>2021-08-19T00:05:19Z</td>\n",
       "      <td>2016-11-25T12:00:00Z</td>\n",
       "      <td>2022-10-28T16:08:10Z</td>\n",
       "      <td>2021-09-01T02:51:16Z</td>\n",
       "    </tr>\n",
       "    <tr>\n",
       "      <th>1516</th>\n",
       "      <td>182885126</td>\n",
       "      <td>Repeat After Me (Interlude)</td>\n",
       "      <td>The Weeknd</td>\n",
       "      <td>After Hours</td>\n",
       "      <td>R&amp;B/Soul</td>\n",
       "      <td>195815.0</td>\n",
       "      <td>0</td>\n",
       "      <td>0</td>\n",
       "      <td>2021-08-19T00:07:42Z</td>\n",
       "      <td>2020-03-20T12:00:00Z</td>\n",
       "      <td>Unknown</td>\n",
       "      <td>2021-08-27T21:34:02Z</td>\n",
       "    </tr>\n",
       "    <tr>\n",
       "      <th>2736</th>\n",
       "      <td>182907406</td>\n",
       "      <td>Possessed</td>\n",
       "      <td>22Gz</td>\n",
       "      <td>The Blixky Tape 2 (Deluxe)</td>\n",
       "      <td>Hip-Hop/Rap</td>\n",
       "      <td>149683.0</td>\n",
       "      <td>18</td>\n",
       "      <td>0</td>\n",
       "      <td>2022-06-06T02:33:49Z</td>\n",
       "      <td>2021-03-19T07:00:00Z</td>\n",
       "      <td>2022-11-05T04:06:51Z</td>\n",
       "      <td>2022-06-06T02:36:30Z</td>\n",
       "    </tr>\n",
       "    <tr>\n",
       "      <th>2861</th>\n",
       "      <td>182909706</td>\n",
       "      <td>Orchids</td>\n",
       "      <td>Stone Sour</td>\n",
       "      <td>Stone Sour (Special Edition)</td>\n",
       "      <td>Hard Rock</td>\n",
       "      <td>264200.0</td>\n",
       "      <td>13</td>\n",
       "      <td>0</td>\n",
       "      <td>2022-08-22T12:55:13Z</td>\n",
       "      <td>2002-08-27T07:00:00Z</td>\n",
       "      <td>2022-09-10T02:55:41Z</td>\n",
       "      <td>2022-08-23T17:57:38Z</td>\n",
       "    </tr>\n",
       "    <tr>\n",
       "      <th>2924</th>\n",
       "      <td>182910758</td>\n",
       "      <td>Best Part (feat. Daniel Caesar)</td>\n",
       "      <td>H.E.R.</td>\n",
       "      <td>H.E.R.</td>\n",
       "      <td>R&amp;B/Soul</td>\n",
       "      <td>209388.0</td>\n",
       "      <td>137</td>\n",
       "      <td>2</td>\n",
       "      <td>2022-09-09T04:06:23Z</td>\n",
       "      <td>2017-08-25T12:00:00Z</td>\n",
       "      <td>2024-11-20T09:07:25Z</td>\n",
       "      <td>2024-03-19T12:50:28Z</td>\n",
       "    </tr>\n",
       "    <tr>\n",
       "      <th>...</th>\n",
       "      <td>...</td>\n",
       "      <td>...</td>\n",
       "      <td>...</td>\n",
       "      <td>...</td>\n",
       "      <td>...</td>\n",
       "      <td>...</td>\n",
       "      <td>...</td>\n",
       "      <td>...</td>\n",
       "      <td>...</td>\n",
       "      <td>...</td>\n",
       "      <td>...</td>\n",
       "      <td>...</td>\n",
       "    </tr>\n",
       "    <tr>\n",
       "      <th>4274</th>\n",
       "      <td>182935558</td>\n",
       "      <td>BOP (feat. GloRilla)</td>\n",
       "      <td>Big Boogie &amp; DJ Drama</td>\n",
       "      <td>REDRUM Wizard (Gangsta Grillz)</td>\n",
       "      <td>Hip-Hop/Rap</td>\n",
       "      <td>202286.0</td>\n",
       "      <td>0</td>\n",
       "      <td>0</td>\n",
       "      <td>2024-11-28T20:33:05Z</td>\n",
       "      <td>2024-02-23T12:00:00Z</td>\n",
       "      <td>Unknown</td>\n",
       "      <td>2024-11-28T20:33:05Z</td>\n",
       "    </tr>\n",
       "    <tr>\n",
       "      <th>4275</th>\n",
       "      <td>182935562</td>\n",
       "      <td>FREE ACE</td>\n",
       "      <td>FWC Big Key</td>\n",
       "      <td>FREE 24</td>\n",
       "      <td>Hip-Hop/Rap</td>\n",
       "      <td>117601.0</td>\n",
       "      <td>0</td>\n",
       "      <td>0</td>\n",
       "      <td>2024-11-30T04:44:47Z</td>\n",
       "      <td>2023-10-27T12:00:00Z</td>\n",
       "      <td>Unknown</td>\n",
       "      <td>2024-11-30T04:44:46Z</td>\n",
       "    </tr>\n",
       "    <tr>\n",
       "      <th>4276</th>\n",
       "      <td>182935566</td>\n",
       "      <td>Strips Blue</td>\n",
       "      <td>Goldenboy Countup</td>\n",
       "      <td>The Rawest II</td>\n",
       "      <td>Hip-Hop/Rap</td>\n",
       "      <td>157584.0</td>\n",
       "      <td>0</td>\n",
       "      <td>0</td>\n",
       "      <td>2024-11-30T05:04:06Z</td>\n",
       "      <td>2023-08-10T12:00:00Z</td>\n",
       "      <td>Unknown</td>\n",
       "      <td>2024-11-30T05:04:05Z</td>\n",
       "    </tr>\n",
       "    <tr>\n",
       "      <th>4277</th>\n",
       "      <td>182935570</td>\n",
       "      <td>Ballin' and Struggling</td>\n",
       "      <td>Goldenboy Countup</td>\n",
       "      <td>The Rawest II</td>\n",
       "      <td>Hip-Hop/Rap</td>\n",
       "      <td>148080.0</td>\n",
       "      <td>0</td>\n",
       "      <td>0</td>\n",
       "      <td>2024-11-30T05:09:32Z</td>\n",
       "      <td>2023-08-10T12:00:00Z</td>\n",
       "      <td>Unknown</td>\n",
       "      <td>2024-11-30T05:09:32Z</td>\n",
       "    </tr>\n",
       "    <tr>\n",
       "      <th>4278</th>\n",
       "      <td>182935574</td>\n",
       "      <td>Master P</td>\n",
       "      <td>Goldenboy Countup</td>\n",
       "      <td>IDN2</td>\n",
       "      <td>Hip-Hop/Rap</td>\n",
       "      <td>105667.0</td>\n",
       "      <td>0</td>\n",
       "      <td>0</td>\n",
       "      <td>2024-11-30T05:14:09Z</td>\n",
       "      <td>2021-11-25T12:00:00Z</td>\n",
       "      <td>Unknown</td>\n",
       "      <td>2024-11-30T05:14:08Z</td>\n",
       "    </tr>\n",
       "  </tbody>\n",
       "</table>\n",
       "<p>314 rows × 12 columns</p>\n",
       "</div>"
      ],
      "text/plain": [
       "      Track Identifier                            Title  \\\n",
       "1496         182884646                         Reminder   \n",
       "1516         182885126      Repeat After Me (Interlude)   \n",
       "2736         182907406                        Possessed   \n",
       "2861         182909706                          Orchids   \n",
       "2924         182910758  Best Part (feat. Daniel Caesar)   \n",
       "...                ...                              ...   \n",
       "4274         182935558             BOP (feat. GloRilla)   \n",
       "4275         182935562                         FREE ACE   \n",
       "4276         182935566                      Strips Blue   \n",
       "4277         182935570           Ballin' and Struggling   \n",
       "4278         182935574                         Master P   \n",
       "\n",
       "                     Artist                           Album        Genre  \\\n",
       "1496             The Weeknd                         Starboy     R&B/Soul   \n",
       "1516             The Weeknd                     After Hours     R&B/Soul   \n",
       "2736                   22Gz      The Blixky Tape 2 (Deluxe)  Hip-Hop/Rap   \n",
       "2861             Stone Sour    Stone Sour (Special Edition)    Hard Rock   \n",
       "2924                 H.E.R.                          H.E.R.     R&B/Soul   \n",
       "...                     ...                             ...          ...   \n",
       "4274  Big Boogie & DJ Drama  REDRUM Wizard (Gangsta Grillz)  Hip-Hop/Rap   \n",
       "4275            FWC Big Key                         FREE 24  Hip-Hop/Rap   \n",
       "4276      Goldenboy Countup                   The Rawest II  Hip-Hop/Rap   \n",
       "4277      Goldenboy Countup                   The Rawest II  Hip-Hop/Rap   \n",
       "4278      Goldenboy Countup                            IDN2  Hip-Hop/Rap   \n",
       "\n",
       "      Track Duration  Track Play Count  Skip Count Date Added To Library  \\\n",
       "1496        218879.0                38           0  2021-08-19T00:05:19Z   \n",
       "1516        195815.0                 0           0  2021-08-19T00:07:42Z   \n",
       "2736        149683.0                18           0  2022-06-06T02:33:49Z   \n",
       "2861        264200.0                13           0  2022-08-22T12:55:13Z   \n",
       "2924        209388.0               137           2  2022-09-09T04:06:23Z   \n",
       "...              ...               ...         ...                   ...   \n",
       "4274        202286.0                 0           0  2024-11-28T20:33:05Z   \n",
       "4275        117601.0                 0           0  2024-11-30T04:44:47Z   \n",
       "4276        157584.0                 0           0  2024-11-30T05:04:06Z   \n",
       "4277        148080.0                 0           0  2024-11-30T05:09:32Z   \n",
       "4278        105667.0                 0           0  2024-11-30T05:14:09Z   \n",
       "\n",
       "              Release Date      Last Played Date Favorite Date - Track  \n",
       "1496  2016-11-25T12:00:00Z  2022-10-28T16:08:10Z  2021-09-01T02:51:16Z  \n",
       "1516  2020-03-20T12:00:00Z               Unknown  2021-08-27T21:34:02Z  \n",
       "2736  2021-03-19T07:00:00Z  2022-11-05T04:06:51Z  2022-06-06T02:36:30Z  \n",
       "2861  2002-08-27T07:00:00Z  2022-09-10T02:55:41Z  2022-08-23T17:57:38Z  \n",
       "2924  2017-08-25T12:00:00Z  2024-11-20T09:07:25Z  2024-03-19T12:50:28Z  \n",
       "...                    ...                   ...                   ...  \n",
       "4274  2024-02-23T12:00:00Z               Unknown  2024-11-28T20:33:05Z  \n",
       "4275  2023-10-27T12:00:00Z               Unknown  2024-11-30T04:44:46Z  \n",
       "4276  2023-08-10T12:00:00Z               Unknown  2024-11-30T05:04:05Z  \n",
       "4277  2023-08-10T12:00:00Z               Unknown  2024-11-30T05:09:32Z  \n",
       "4278  2021-11-25T12:00:00Z               Unknown  2024-11-30T05:14:08Z  \n",
       "\n",
       "[314 rows x 12 columns]"
      ]
     },
     "execution_count": 46,
     "metadata": {},
     "output_type": "execute_result"
    }
   ],
   "source": [
    "non_date_columns = ['Track Identifier', 'Title', \n",
    "                    'Artist', 'Genre', 'Album', \n",
    "                    'Track Duration', 'Track Play Count', \n",
    "                    'Skip Count']\n",
    "cleaned_library_df[non_date_columns] = cleaned_library_df[non_date_columns].fillna('Unknown')\n",
    "date_columns = ['Date Added To Library', 'Release Date', 'Last Played Date',\n",
    "                'Favorite Date - Track']\n",
    "cleaned_library_df[date_columns] = cleaned_library_df[date_columns].fillna(pd.NaT)\n",
    "cleaned_library_df"
   ]
  },
  {
   "cell_type": "code",
   "execution_count": 47,
   "metadata": {},
   "outputs": [],
   "source": [
    "cleaned_library_df['Track Identifier'] = cleaned_library_df['Track Identifier'].astype(str)"
   ]
  },
  {
   "cell_type": "code",
   "execution_count": 48,
   "metadata": {},
   "outputs": [],
   "source": [
    "cleaned_library_df['Date Added To Library'] = pd.to_datetime(cleaned_library_df['Date Added To Library'], errors = 'coerce')\n",
    "cleaned_library_df['Favorite Date - Track'] = pd.to_datetime(cleaned_library_df['Favorite Date - Track'], errors = 'coerce')\n",
    "cleaned_library_df['Last Played Date'] = pd.to_datetime(cleaned_library_df['Last Played Date'], errors = 'coerce')\n"
   ]
  },
  {
   "cell_type": "code",
   "execution_count": 49,
   "metadata": {},
   "outputs": [
    {
     "name": "stdout",
     "output_type": "stream",
     "text": [
      "Cleaned library data saved successfully!\n"
     ]
    }
   ],
   "source": [
    "cleaned_library_df.to_csv('cleaned_library.csv', index = False)\n",
    "print(f'Cleaned library data saved successfully!')"
   ]
  },
  {
   "cell_type": "code",
   "execution_count": 50,
   "metadata": {},
   "outputs": [],
   "source": [
    "expanded_df['Track Identifier'] = expanded_df['Track Identifier'].astype(str)"
   ]
  },
  {
   "cell_type": "code",
   "execution_count": 53,
   "metadata": {},
   "outputs": [],
   "source": [
    "cleaned_library_file = 'cleaned_library.csv'\n",
    "library_df = pd.read_csv(cleaned_library_file)"
   ]
  },
  {
   "cell_type": "code",
   "execution_count": 54,
   "metadata": {},
   "outputs": [],
   "source": [
    "expanded_df['Track Identifier'] = expanded_df['Track Identifier'].astype(str)\n",
    "library_df['Track Identifier'] = library_df['Track Identifier'].astype(str)"
   ]
  },
  {
   "cell_type": "code",
   "execution_count": 56,
   "metadata": {},
   "outputs": [],
   "source": [
    "merged_master_data = expanded_df.merge(library_df, how='inner', on='Track Identifier')"
   ]
  },
  {
   "cell_type": "code",
   "execution_count": 59,
   "metadata": {},
   "outputs": [
    {
     "name": "stdout",
     "output_type": "stream",
     "text": [
      "Index(['Country', 'Track Identifier', 'Media type', 'Date Played', 'Hours',\n",
      "       'Play Duration Milliseconds', 'End Reason Type', 'Source Type',\n",
      "       'Play Count', 'Skip Count', 'Track Reference', 'Track Description'],\n",
      "      dtype='object')\n",
      "Index(['Track Identifier', 'Title', 'Artist', 'Album', 'Genre',\n",
      "       'Track Duration', 'Track Play Count', 'Skip Count',\n",
      "       'Date Added To Library', 'Release Date', 'Last Played Date',\n",
      "       'Favorite Date - Track'],\n",
      "      dtype='object')\n"
     ]
    }
   ],
   "source": [
    "print(expanded_df.columns)\n",
    "print(library_df.columns)"
   ]
  },
  {
   "cell_type": "code",
   "execution_count": 60,
   "metadata": {},
   "outputs": [],
   "source": [
    "expanded_df['Track Identifier'] = expanded_df['Track Identifier'].astype(str).str.strip()\n",
    "library_df['Track Identifier'] = library_df['Track Identifier'].astype(str).str.strip()\n"
   ]
  },
  {
   "cell_type": "code",
   "execution_count": 62,
   "metadata": {},
   "outputs": [
    {
     "name": "stdout",
     "output_type": "stream",
     "text": [
      "{'1559913126', '1662713131', '1543913878', '1506277878', '1490463317', '1611984791', '426663069', '1440830324', '1445276246', '1636364556', '1460041828', '1544494407', '1613246750', '1424362622', '1676442803', '1514039895', '1521944083', '1021570285', '1480423521', '1627782257', '1638438690', '1444877689', '1633572410', '1597621406', '1506732771', '1631420320', '275504060', '1526195701', '1445099325', '1047963461', '663432271', '830431255', '1515356383', '1577252840', '1553522131', '1484428674', '1509736456', '1611984664', '1376116241', '1657271968', '1436555512', '1762656732', '1584001581', '1440620227', '1571305953', '1538577809', '1524699830', '1445834080', '1400124400', '1440816162', '287844926', '1524672886', '1442259234', '1635702226', '1025212456', '1667733543', '1484726278', '943946671', '738255064', '1635220069', '1270210013', '1568378201', '1611845611', '547979776', '1751280352', '1593950809', '1553381293', '1490727727', '1398449677', '1460293195', '1440734132', '1440881367', '1695107059', '1509423191', '1676152328', '1484870825', '1592720652', '583182190', '1475668447', '1627611762', '1603931587', '1558942152', '1707932607', '1062092649', '1271002730', '1695505889', '933984166', '1622312892', '1512781868', '1687589757', '1591315295', '1745607231', '1537881301', '1440883643', '265916811', '1440832484', '1628607176', '1089186523', '1579255925', '1440839943', '1515355985', '1499681606', '1025212413', '1579770438', '1518893066', '296016893', '278291604', '1518693962', '1524127543', '1612867429', '1648587840', '939779732', '1442990081', '1654832892', '1495242918', '1266098954', '515040491', '1575789115', '1440855870', '1495267453', '1005197087', '1446016727', '1653846950', '1173703490', '1087172335', '1444183399', '1453895423', '1321711441', '1440873246', '1693938968', '1087172331', '1569245440', '1494857360', '1767663812', '971238507', '1653016438', '1585882648', '1620066289', '911121222', '1440900110', '1440891883', '1442259083', '1631909587', '1484628794', '1504150130', '1535838899', '1199623328', '1440831032', '1702084998', '1025212472', '1526400288', '1529510863', '1021570275', '1712956139', '1440643139', '1649841210', '1440844145', '1315146892', '1368157211', '1542724029', '1598205689', '1689681727', '1606259691', '1560214311', '335317513', '1662169126', '1652299316', '1340733540', '1031354882', '1243558167', '1443431970', '1448420592', '1493810281', '1518693953', '1448375665', '1730901550', '1654832546', '1513439088', '1611092838', '1025212463', '1453346474', '1708867360', '1465993872', '1610416257', '255836745', '1521889530', '1406031178', '1527134914', '1440747182', '1480895507', '1495269881', '1651553776', '1455258299', '1729919128', '1484428444', '1544147853', '1443232440', '1519882307', '1677621984', '1495242924', '1527121994', '1422668499', '1542561585', '1658668249', '1441480831', '1521420793', '1544491235', '1542878250', '1440913365', '1443740930', '1494539467', '918382404', '1589051009', '1752769258', '1492313695', '1440808310', '1622312899', '1536972164', '1704289341', '1561876306', '1441333683', '1579772570', '267265002', '1440762795', '1440849844', '1146195713', '1412873017', '1677005882', '433409598', '1731247696', '350655609', '1440880631', '1411628672', '1463583684', '1617150177', '1440796953', '1504976684', '1623389992', '1689681811', '581806445', '1440831211', '1411628148', '1553381303', '560097715', '1681131989', '1513037931', '1495242908', '1441184408', '1685966878', '1533894677', '1383521930', '886332113', '1698148921', '1443217177', '1440618186', '1584281774', '1484289403', '1339429002', '201409248', '1440841384', '1519976400', '1446580414', '1473525506', '1436310304', '368016728', '1473487611', '1533345325', '1440866939', '1598205684', '1460720150', '1528282316', '1607411678', '847966787', '1550876650', '1513439082', '1445099323', '1561984094', '1440863201', '1695106871', '1522975298', '1555036757', '1698400130', '1127989697', '1440855804', '1700779006', '1668407403', '1486717301', '1125281480', '1545457932', '1440840282', '297325925', '1509736644', '1542724626', '474725055', '1668407611', '1440732122', '1440855806', '1441480839', '1440815186', '1031416185', '1445158473', '1631420158', '1454256239', '1690691631', '964503887', '1030116019', '268532453', '1579770453', '576655100', '1555345215', '1646224083', '1486716754', '1123280733', '1102724650', '923691588', '1628441557', '1445606856', '1607349092', '1460430752', '1639618443', '1504031987', '1440846136', '1399204228', '1662161612', '1680837153', '1510841233', '535936249', '1526929024', '1490463663', '1603171873', '1591415424', '1490463331', '1460397445', '1595689821', '1512903109', '1509736915', '1774287413', '1707241633', '722411815', '1596901104', '1630231132', '1547374596', '535936048', '1543483012', '1647024088', '1471264095', '1631420157', '1578732024', '1511793635', '1574582191', '564834716', '1443217162', '159295548', '1640591413', '1607047464', '1533332119', '1577804130', '1440849119', '357817035', '1692994743', '1556722101', '1313176083', '1539774189', '1726665085', '1535281102', '1442995541', '1593436752', '1568377984', '1278159361', '1484726734', '1545457930', '333605763', '1708795599', '1485598088', '1561418153', '1506277888', '1600766221', '1676442808', '1484726275', '1603171893', '1573466143', '1593283962', '1489505227', '896029997', '1689867040', '1695505886', '1294890800', '1549849552', '1479864445', '1439433459', '1628441260', '1710685786', '1528282314', '1727173609', '1694554787', '1293230534', '1519867252', '1544936000', '1568377983', '1445842696', '1498408493', '1440873245', '1672459628', '1476858990', '1025212475', '1440656998', '1575788458', '1440650463', '1441586726', '1440639381', '1525250050', '1443430568', '1522359413', '929825619', '1550876766', '1039459590', '1493260945', '1524127383', '1588335530', '1440871420', '1440818664', '1265180685', '1530123025', '1683417180', '1658668260', '1562704305', '1600570969', '1440815680', '1435199099', '1440674350', '1440849686', '1440761310', '1541734197', '1449317165', '1522975235', '1482953532', '1062149688', '216666859', '1594677760', '1440818964', '1738684156', '1440765600', '189226029', '1628931035', '1655372963', '1563871639', '1308530990', '1451494913', '1527405617', '693226464', '1776500460', '1630225792', '21825139', '1709823179', '267264880', '519566891', '1713814120', '1397996980', '1686017456', '1383959278', '1536729690', '1434430944', '267828056', '1526031584', '1590036264', '1440849577', '1222639301', '1025212471', '1440899140', '1513067514', '1678981282', '989407174', '278845479', '1499681593', '1523964578', '73240545', '1440657001', '1463409621', '1533345576', '1574734521', '1592720574', '1543483438', '1684002109', '1680837368', '1506089704', '1444033098', '1658668449', '1482953241', '1440881162', '1536950535', '1595098757', '1663088940', '1392861274', '1581950972', '561751991', '1225617759', '1440620230', '1660157428', '1170699703', '1497237918', '1543627490', '1497798132', '1460432023', '1700779014', '1542403417', '1696000838', '1569712115', '1445283827', '1569712113', '1686502837', '1468224507', '1498352796', '1161504043', '1260864954', '1445171578', '1207120448', '1542313638', '1546163608', '1440871698', '1525805862', '1168986128', '1593436590', '1743228284', '1692935902', '766062596', '1541059194', '1412859024', '1690945088', '1436651770', '1445836946', '1559698724', '186088629', '1523280476', '1620618125', '1702085012', '1473497683', '576655095', '1614567720', '1695106870', '1489544336', '316138187', '1489505179', '267265666', '1067904640', '1440841581', '1697581546', '1519060873', '1744024751', '1542103620', '1730901838', '1600571230', '1412859037', '1680837156', '1239587059', '1715935375', '1599656836', '1702084895', '1695651143', '1438161447', '1720258380', '1145854527', '1468988150', '1680836869', '1434346013', '251080808', '1482220639', '1492785708', '1440836803', '1440846034', '1510814146', '1148747716', '1522930127', '1440826386', '1440634140', '1689867043', '1489544334', '1278159417', '1530009276', '1480805093', '1465993873', '1521889200', '1506297772', '1440908981', '1524127373', '1543914727', '1567422339', '1440851763', '1218733877', '1523924384', '1600624375', '1515356378', '1498352629', '1680836438', '1745595216', '1472498349', '1440650871', '1548999402', '1643062188', '1467816018', '1693096072', '1513224635', '1025212491', '1440635963', '1440867324', '1440909761', '1003755507', '1440822543', '1551409732', '1543483201', '774724903', '1440878990', '1440742904', '1437333914', '1516200649', '1418213402', '1567061166', '1384782175', '1526499374', '1422909352', '1463409616', '1564228951', '1462377494', '1531407578', '1443217164', '1560944642', '1527924862', '1450690206', '1711687668', '1204361234', '1622045954', '1443605911', '1586112418', '1524859951', '1553419527', '215739235', '1512667442', '1649889251', '1087213478', '1630230784', '1680836888', '1607348777', '1528521343', '1650488693', '1437479269', '1569427365', '1528412289', '1411629292', '1593436133', '1712363264', '1611414207', '1311877602', '1598403170', '1750590928', '1440859905', '1677621979', '1220781332', '1443430777', '1600766444', '1487444578', '1575788668', '1537049524', '1440917624', '1698856986', '1613247045', '1480423886', '1440844141', '1628440997', '1723257176', '1512299058', '1655372392', '373220194', '1471264103', '1712748178', '276960658', '1563511129', '1393706258', '1631420075', '1723257506', '1462556702', '1510002052', '1705730437', '1600570983', '402338152', '1536014998', '1440934965', '1495165510', '1429150038', '1687589746', '990422391', '1521762696', '1607348397', '1680836232', '1499378860', '1440871591', '1552977161', '1430139907', '1467207367', '1440831431', '1560735419', '1642816338', '1278404870', '1615128006', '1611638138', '1498962658', '1475126081', '1544491998', '1440650460', '1648587833', '1548332504', '1530123160', '1403539986', '1412859026', '1658668213', '1360050994', '1553381309', '1523769872', '1603649988', '1686501193', '1463409605', '1569427371', '886332112', '1540797055', '1440839035', '1570908021', '982223884', '1498288785', '1445841629', '1611637863', '1467439910', '1519881668', '1583485017', '1498713836', '1494511445', '1512822951', '1440633219', '1025212473', '1440795310', '1677006137', '1440909288', '1515404862', '1556527664', '1539499186', '1542724353', '1708867362', '1575788460', '1700779009', '1379046390', '1710210263', '1520169953', '1534567599', '1260881187', '1495645018', '1440651296', '1694577944', '1440667557', '1680300460', '1578732023', '1528282311', '1533345333', '1561655453', '1440814497', '1620860619', '1560352297', '1574994578', '1618111041', '576670461', '1102724627', '1451142481', '1680836607', '1152679730', '1058123049', '1729920524', '1445285852', '568987984', '1543807377', '1691428050', '1445840297', '1451142323', '1542824447', '1613246764', '1257751735', '1695999401', '1729919125', '1542824014', '1438872949', '1492695853', '1560214266', '1500491200', '1695961714', '1434345847', '1482857666', '290555303', '1533345328', '1562795699', '1586424676', '1515356382', '1545228413', '1260881177', '1526746984', '1451902834', '1622301193', '1693096342', '201277089', '1550963771', '1440831432', '1573657167', '1591718515', '1434346012', '1584564608', '332060798', '1457080455', '1440831632', '1640759164', '1478190126', '1474797287', '323098606', '1529126934', '1503132159', '315027759', '1443486949', '1025212461', '1545588724', '1465993867', '1577804127', '283566848', '434535963', '1260881247', '1721282150', '1440849111', '1596186948', '1087172334', '1549493985', '724895124', '1440620228', '1535542529', '1471461702', '1426666475', '1322094228', '1440904110', '1559833887', '964338007', '1686502540', '1556700095', '157453599', '1628388489', '1442043512', '1609166741', '1545382295', '1436033725', '1570664245', '1575642026', '290078433', '1442982496', '1408466416', '1445037750', '1670471616', '1539774209', '1571488351', '1484225628', '1434770510', '1654123157', '1560213959', '1647641196', '1575447478', '1680228710', '1460293498', '1463409349', '1543103563', '1490463637', '1519276812', '1740180175', '424480749', '1495002730', '1440802006', '1440870375', '1562007620', '1278159348', '1687215996', '1535082168', '1646917210', '1600571233', '1618184435', '1644701360', '1569146341', '1662173746', '1519555424', '1601702614', '1533089657', '1440739301', '1494857506', '1636424482', '1445311118', '276222398', '1663088532', '1597853234', '1440622757', '1442289888', '1538224682', '1440845911', '1550392682', '1541734198', '951608763', '1440635607', '1434770511', '1440657010', '1443217175', '1636049396', '1603171870', '1440667555', '1436254178', '1633031814', '1445839771', '1745132883', '1537438778', '840381890', '1763158564', '1720686706', '1444958545', '1445883011', '1440770080', '1278159364', '1466957620', '1440899628', '1438614348', '1232382220', '1457080754', '80456400', '1524860399', '1495956245', '1562252172', '1571587394', '1497227644', '1450695742', '545398138', '1025212484', '1267032664', '1498408497', '1687216001', '474725138', '1775794138', '296334764', '1631420163', '683600763', '1515356376', '1442043518', '535936047', '1537438785', '298399752', '1495267466', '1446952662', '1532379472', '1510840479', '1460430670', '1642425465', '1598758843', '1451021295', '1442938241', '1078705259', '264607320', '1363683602', '1153937630', '1440657004', '1655371599', '1583485021', '1686333252', '1668493072', '328449508', '1382133433', '464758345', '1542022349', '1446021558', '990422390', '198006524', '696088649', '323098607', '1510841248', '1648802664', '1590619994', '1536993741', '1524127370', '1729920139', '1445836269', '1338600148', '1710685762', '1653846634', '1475668439', '1714540348', '1437592158', '1393706418', '1484628790', '1476859010', '1553381304', '1675945219', '1442854830', '1476432285', '840493993', '1713430026', '1440747173', '1440871956', '1445839091', '1574994389', '1465833002', '1755044437', '1440853972', '1647623736', '1574731463', '1471456345', '1536950537', '1538799295', '1533894684', '1586414729', '1440656999', '1680963862', '1437958257', '1548999400', '1628441279', '1440815442', '1440657002', '1621325437', '1399277947', '1535082161', '349732829', '599214104', '1588328929', '1443293834', '1658667686', '1485384412', '1662713130', '1443430557', '1521791796', '1482317476', '1510032772', '1199623361', '1597855637', '1079106285', '1673851164', '1523402894', '1713622750', '189225222', '1695106875', '1531330898', '1649448038', '1440831023', '1403517307', '1444891951', '1462799629', '1729920164', '955207018', '1102724629', '1553787757', '1600624916', '1549526740', '1443068986', '1660409993', '1458654149', '1735574610', '1460720147', '1440863223', '1607411758', '190800183', '1560227085', '1439777400', '1651304260', '1445313946', '724029108', '1540430579', '1509736458', '1539519046', '1440883649', '1696000493', '1509370929', '1693096070', '1699432275', '63490854', '1435814076', '1437810683', '1633369916', '1543050219', '1220046163', '1603171530', '1539987911', '1446046515', '1651553787', '1445836469', '1535838902', '1593436332', '1667660812', '1535876069', '1536553137', '1440855858', '1102724624', '926187670', '1102724636', '1524719854', '1445841205', '1672143422', '1716643908', '1440662805', '1706932550', '1440738689', '1560227102', '1711865801', '1534955251', '1442213166', '1493570252', '1494857781', '1025212395', '1450653001', '1600120796', '930231559', '1611984657', '1436069198', '1440902849', '1561039735', '1463409354', '1440650465', '1590619997', '1584266853', '1663088928', '157517099', '1436651764', '1593803630', '1524127539', '1486788289', '1446114622', '1591531484', '1764002875', '1671276352', '1493570249', '1505375721', '1440844133', '1102724640', '1483152760', '599214106', '839317551', '217613305', '1581022297', '1440845515', '1444114900', '1597852921', '1685966881', '1488014197', '1630230060', '1578731775', '1590219938', '1440866926', '1597203138', '1687588971', '1527134393', '1526031576', '1575789118', '286588622', '1733604855', '1439775779', '1513067516', '1473525509', '1399801162', '1541734201', '713212175', '1258961909', '1445010661', '332669707', '1544491987', '1060433005', '1593949642', '1464070098', '626205875', '1147225579', '685158092', '1178163463', '1522794253', '1440899467', '1529510486', '1460720130', '1646032787', '1499378597', '1553796173', '1514039897', '1490748407', '1680836605', '1460296373', '1460296637', '1768327838', '1441493349', '1442107933', '194331488', '1667733162', '1443005425', '1770380890', '1678679731', '715920309', '1662712425', '1517561656', '1445839327', '1533894681', '1545892648', '1031416179', '1627366438', '77882770', '1621026163', '1445842079', '1556097162', '955207025', '1514039899', '1729919836', '1446626444', '253356138', '1720257353', '1499681588', '1403517309', '1443432144', '275591369', '1442289881', '1494539481', '1571306527', '1437955726', '1448556264', '1652119179', '1510840890', '1607348768', '1545457929', '1440814812', '1123280731', '1501192847', '1440887753', '1565795163', '1735018689', '1440633803', '1459930609', '1025212482', '1598205971', '1714908991', '1531786699', '1577804652', '1484428426', '1425131554', '1655372188', '1702084896', '1498989231', '1534466968', '1695107061', '1460293496', '1440849547', '1560214316', '1572791738', '1445838740', '215738809', '1440770384', '267955135', '1081916420', '1622253315', '1068291032', '886332095', '1479119245', '1584390101', '1697581671', '1460293500', '1649448034', '1591675471', '1449317170', '1576455261', '1456143994', '1649263798', '1444830431', '1707896536', '1440908115', '1440917244', '474725076', '1738812598', '1658007191', '1527691044', '1440871703', '1440620327', '1720257368', '303289598', '1539640697', '617452126', '1566392167', '1550391410', '191025095', '1532848472', '1636070986', '1625187361', '1504531257', '1550876525', '1755057574', '1383866324', '1617171465', '1350894402', '1393706252', '1465832875', '268528935', '1102724637', '1520535114', '1380869862', '1480805134', '1649840251', '1405199646', '1139258980', '1521889695', '1514039892', '1519276196', '1539033008', '1524127561', '1465832869', '79039007', '777741661', '599214198', '1766944455', '254530592', '1005209142', '1532162083', '1440934604', '1445841410', '1087172345', '269410994', '1586854104', '1444958557', '1680836611', '1513067524', '1680836610', '1607037150', '1528937197', '1524127382', '1655037485', '1493365098', '1543627503', '1031925773', '1489505191', '1475668443', '1702085019', '1591415412', '715511655', '220195147', '1397525059', '251088203', '1485435756', '1663088534', '1191383498', '1440829463', '1527688637', '1318853054', '1440742912', '1694078167', '1440845894', '1524127381', '1440785602', '1500702147', '1440871708', '1440770037', '1655037481', '1614874657', '294360773', '1668407617', '1710673729', '1589361900', '1494539473', '1471921531', '1529510866', '1505683986', '1562704306', '1657460915', '1513067519', '1552308381', '275820153', '1524127550', '474725388', '1655037467', '1278159402', '1510840478', '1005197786', '1440848093', '1537438804', '1490463646', '1536132018', '939783789', '1435199102', '1519275751', '1611110247', '903493428', '1524860628', '1030116018', '374859553', '1576273809', '1444895356', '1726958341', '1574734637', '1484428677', '1473497693', '1440792144', '1693095825', '1641597515', '1484877134', '1541063680', '1444005838', '1445837144', '1440916655', '1613230848', '400946433', '1668407405', '982540701', '1461193540', '1436555518', '1502838778', '1493330527', '1556513795', '1668407614', '258502927', '1495267292', '1499686570', '575286391', '386153729', '1440848099', '1696000162', '1207987881', '1510639904', '1754603379', '1531452167', '1452871360', '992048094', '847966788', '1698215515', '1054247701', '1499706342', '1440872132', '1651737900', '1437479265', '1514523900', '1440881684', '1524127372', '1553748401', '1655037488', '1442149601', '1440845529', '1569712093', '1521889524', '1600624604', '1499378607', '1726091742', '1437955285', '1445300320', '297019141', '1590619990', '1561794054', '1469642295', '1699712653', '1540950606', '1440789555', '1668407612', '1472083275', '1534816303', '1579117772', '1645032135', '1518693941', '1600783199', '1393706257', '1599341391', '1576455260', '1471002373', '1440872113', '1504150129', '1610209445', '1538448831', '1597853228', '1192537660', '1578732014', '1533455293', '1440831629', '1654419016', '1590220506', '1440661296', '1511793996', '1451142309', '1318629400', '1720257361', '1512229914', '1701533728', '1591181144', '1486867893', '467461975', '1412873593', '1440720090', '1482953517', '1506260948', '1514462011', '1655004522', '1446789959', '1440899888', '1440849525', '1299856917', '1658668195', '1452002228', '1568600364', '1512304640', '1499378615', '1450041138', '1440661545', '1647917026', '1494539479', '1457998199', '1411628993', '1488663781', '1440863086', '1440820037', '1512782682', '1443217151', '1411627436', '1445837642', '1445297974', '1445099342', '1617721863', '1607349066', '1062469161', '1445157463', '1615518633', '374419040', '1621325442', '1511793631', '1542103215', '265696704', '1614567723', '76135608', '1480423887', '1440829137', '344673600', '1541070318', '911121223', '1598011713', '1453941332', '1102724646', '1228742334', '1489505229', '1646229345', '1649263810', '1443862934', '908010942', '861300200', '323049173', '1260881178', '1542723936', '1435294335', '273199502', '1643326505', '1491734346', '1445318618', '1498288789', '1712956325', '1440826577', '1522975214', '1465833004', '1440633809', '1542685238', '1575788674', '1440620216', '1690811367', '1630005304', '1399202954', '1686502537', '429945616', '1514039674', '1571847412', '1517514390', '1647641201', '1525583147', '1443195959', '992048100', '1540101530', '1440761587', '1006873284', '1726092571', '1440845789', '1582579614', '1720258115', '1440862981', '1575789001', '1440830709', '1710062970', '1444029399', '1521222426', '1671647147', '1443831010', '1444958537', '1290755952', '1278159349', '1680067853', '1440798259', '1443085141', '1577601868', '1700779017', '1772721068', '1440846143', '1668015949', '1743205883', '1466345857', '1430133845', '1527293540', '1470490146', '1715744252', '1481874619', '1484726283', '1440863221', '1523435148', '1450976054', '1445841219', '1773414177', '1494554006', '1434770473', '1598978254', '1418213269', '1699432760', '1434346005', '1166383562', '1518893052', '1438474016', '733143757', '1653820838', '1593950332', '1599656847', '261707058', '1440509554', '1597855442', '1543302833', '1384782177', '1610209577', '1577252849', '1630230860', '1266713364', '1561398240', '1460296627', '1661195568', '1440863108', '1659158274', '1440871694', '1593212798', '72793143', '1443177137', '170439514', '1265893529', '1591544450', '1743407231', '1474313941', '1440845920', '1321711436', '1506678573', '1440846011', '1376116250', '1485954708', '1495267448', '1444891119', '1465993874', '1444278149', '1567873189', '1522975218', '1636790511', '1345362029', '1713814114', '390308014', '1609462368', '1440925180', '1614866627', '1444101684', '1498352640', '1440849570', '1544547947', '1383959280', '1485481982', '1470132475', '1527121997', '1489505178', '1308530998', '217363246', '1752805223', '1393706260', '1245235068', '1568431782', '1440853979', '1650616163', '1531015422', '1368157215', '1541341994', '1683236544', '1559954663', '1440811090', '1440766784', '1449737660', '1049043307', '1542083817', '1682060421', '1440845783', '1660474582', '1544494731', '1460720095', '1650674904', '1677000365', '255093455', '1440898735', '1440866785', '1649192865', '721218256', '599214105', '1555305193', '250953993', '1591545282', '1412859611', '1442839552', '1635220186', '1597853237', '400042093', '1509597772', '473447515', '1437949212', '1440899447', '1440898306', '1476432291', '1426119284', '1577252048', '1490463937', '1350893646', '1680836612', '1653498933', '1517894603', '1440898458', '1468618077', '1488557244', '1440829630', '1512782687', '1504150177', '1535340957', '923691609', '1730901298', '1490521120', '1615652872', '1581033680', '1497798134', '1440901767', '1445312159', '80807757', '1488412681', '1058123160', '63490844', '1598205690', '1473027311', '1561837001', '1699224678', '1471002116', '1609462369', '924502475', '1642604885', '1621648367', '1440749044', '1653846644', '1440863092', '1593950469', '1521866179', '1544669199', '1600766436', '1451142476', '1542311878', '1700779010', '1577252844', '1368816808', '1532032343', '1696000823', '1552308389', '1577257933', '1511794006', '1521889798', '1610045559', '1439511661', '1540341730', '1454729760', '1481282025', '1253656863', '1617074360', '1568378196', '1622045948', '367433150', '1445866362', '1451909812', '1475351808', '1676103695', '1150135924', '1578731789', '1577944652', '1439511659', '1480895700', '1440798518', '1408466411', '1396141904', '599214102', '1720258107', '1686500197', '203760125', '1706936900', '1562704304', '1689681809', '260639884', '1605647632', '250953533', '1278159421', '1440862978', '1672143637', '1600364564', '1389160984', '1593949996', '1583485014', '1575789122', '1652763451', '926946211', '1278159357', '1440867044', '1440920535', '1651352914', '1475185379', '1547585585', '1060714111', '1598758847', '1522975211', '1536760559', '1443677213', '1065094896', '1011549366', '1643062190', '1226759438', '1217751260', '290078439', '1441154571', '1440642755', '1507472704', '1738123256', '1524860378', '1545457926', '1636782444', '1614151895', '1489505185', '1560213964', '1541342750', '1087172338', '1397996979', '1440845747', '333605952', '1687589563', '1538147366', '1537068471', '1524005860', '1455151646', '1550077087', '1248113620', '1518693942', '1642741963', '1722847606', '1529001343', '1645962399', '1574994393', '1602205499', '1156607500', '1443166804', '1743228286', '1545457951', '1501268772', '309066884', '282988494', '1586483386', '1437592180', '1448038391', '599214196', '1468396308', '1362807566', '1545525270', '1622839871', '1444320654', '1447334978', '1590619995', '1611984646', '926946233', '1658668589', '1456144144', '1274653784', '1530122792', '1484428662', '1443745751', '1440234794', '1495267286', '1583485023', '1465832996', '695318301', '1368816946', '1440650773', '1539857467', '1532814134', '1528282309', '1437479708', '908010948', '1523139975', '95786277', '1655372983', '1490463863', '1631420074', '1440620329', '260639694', '1445830515', '1445044400', '1377915113', '1542102922', '1168167691', '1445007713', '1576364317', '1440831019', '1525932953', '1534567217', '1471263906', '1440737226', '1436651765', '1585882932', '1368128121', '1480439158', '1737150451', '1560216274', '1668407618', '1543627495', '1649889009', '1440900516', '1440831435', '1439433458', '1440644149', '1719193865', '1440934019', '1441154439', '1440652632', '1524620798', '939779760', '1560647821', '1482953518', '1484428660', '1679512080', '1058123510', '956024318', '1490521207', '262075342', '1483428166', '1404462207', '1495203181', '1278159408', '1536805967', '1276828660', '1645721271', '1548999797', '1315147495', '1520111630', '908010938', '1440639401', '1440816164', '1622312891', '1577253221', '1711706727', '1445101950', '446059809', '1508023332', '1488557253', '1470132722', '1717114418', '1686500200', '1278159411', '1622045962', '1590619993', '1640467359', '617452269', '1449317806', '1628441005', '1408465927', '1453486828', '1440816545', '1621646421', '1102577430', '211393161', '1521889534', '1445732929', '1606203257', '1627589195', '1373858939', '1573741126', '1532924832', '1517757020', '1321717860', '1669322603', '1530123561', '1462767583', '1575788669', '1511793608', '1440545953', '911472254', '1533202571', '1658668576', '1440831441', '1743384838', '1634213630', '1567422349', '370535961', '1540341481', '1440826583', '1440817530', '1684699104', '1543627499', '1459931158', '1712956521', '1463409350', '1204361233', '1440635423', '1542051744', '1635220190', '1444067546', '1025212488', '1702084894', '298426087', '1460170226', '1553390518', '1603931394', '599214192', '1476348499', '1570664410', '1741670593', '201274644', '1005306333', '281698407', '1511793624', '1440887528', '1145917387', '1168822110', '1679627414', '1445028072', '1574210914', '1554699939', '1538553125', '1521560442', '1567422353', '1087077324', '1695106874', '1672143635', '1533364465', '268637568', '1775794408', '1456606282', '1440669270', '1729920153', '1473531867', '1440934978', '1438988564', '1556722108', '1571172639', '1656000112', '1574935081', '1498647654', '1721463812', '1493941316', '1730847144', '1440825761', '273798292', '1524324726', '1519276825', '1631420164', '1451902446', '780519961', '1445836941', '1274653783', '1596868392', '1440831131', '1443432155', '1591315208', '1592720584', '1440842046', '1521889511', '1440846157', '1713094138', '1675115420', '1729919657', '1719174156', '1005197644', '1428768261', '1452852435', '1446106143', '1680711520', '1434770516', '1724260982', '1445734962', '1445842858', '1592720650', '1611110249', '1514705997', '1437948985', '1599656953', '1607411686', '1440742905', '1541734597', '1568378198', '1445010473', '1731223674', '1678479179', '1698441317', '1563904501', '1536904007', '268215199', '1560214324', '1662713132', '1547595189', '900672609', '1662154335', '1462653169', '1398010002', '1548545768', '1476858995', '1648587323', '1655004265', '1651352904', '1628463795', '1518013700', '716086623', '1440637074', '418674083', '1543627486', '1102724642', '1680067864', '1437949219', '1440917635', '1453278352', '1025212487', '1450326006', '1443852367', '1440855875', '1450334168', '1440845907', '1452991440', '1355204186', '302992638', '1446040616', '1577601857', '404239960', '1266332370', '1729919391', '1440831608', '1247335800', '1545247739', '1698366510', '1376389467', '1572943709', '1465832997', '1440845696', '255836736', '1474891824', '274577598', '417432467', '1440826580', '374384335', '1590619989', '1440892713', '1440770575', '1443061990', '1477553760', '1444895758', '1533083751', '1590619991', '1444221569', '1591415421', '1309038037', '6917159', '1530122788', '1152679731', '696693049', '1729919117', '1544494722', '1527121991', '1536993751', '296790648', '1434345848', '1481988659', '1390268585', '1687216252', '1569226441', '1419779120', '1500821181', '1005171713', '1457746866', '1475668437', '1442966983', '920686029', '1552986807', '1696000509', '1711599165', '1557913450', '1440760995', '1501598320', '1471580285', '1517928162', '1552998347', '1445843118', '1700779016', '1721389272', '1498988854', '1540490204', '1648990657', '1545200980', '1646194512', '1554926114', '1576364013', '1476859001', '1631420145', '1585884048', '1535985753', '1725347286', '1444177196', '1680836428', '1474499622', '1541341769', '1695106872', '1552686805', '1667629727', '1656132977', '1456316529', '1670471066', '1526031449', '1622809425', '1631069954', '1623714716', '1716470597', '1530777373', '1446846977', '281620215', '1628441267', '1731044416', '535936250', '1116298838', '296016899', '1651946159', '1408466414', '187954995', '474725026', '1557563245', '1445039973', '1542724347', '1653846960', '1712728269', '1613246757', '992048197', '1679824005', '259985728', '1524866999', '1648380206', '1273819144', '1443188823', '1469500935', '1667389631', '1550883727', '1540668629', '1627611661', '1512306204', '1440891494', '559334764', '1689681807', '1025212504', '1702085000', '1710685800', '1651352685', '1364912615', '908010939', '1440639398', '1473497685', '1634669622', '1476432972', '1440841845', '1000322389', '1495267467', '1443753326', '1693096071', '386153687', '290078425', '1738122310', '854890645', '1654832885', '1532162088', '1440831615', '1058122229', '1686501674', '599900045', '1440761562', '1744776350', '1680836420', '1521889289', '1705141516', '1778414482', '1539332999', '1499378596', '1525070586', '1709727627', '1514670545', '1440853990', '1440935262', '1535082159', '1617171238', '1558942156', '1440732119', '63490864', '1693096066', '1524860988', '1590619996', '1493347204', '908010941', '1701897535', '1440816737', '1539640384', '1440836807', '1697002831', '1445834180', '1484155233', '1775794139', '1161504065', '1630225790', '576670463', '1585883847', '1597855627', '1540118602', '1660157443', '1712956142', '1521889780', '1560227453', '1680837051', '1443545703', '1701165899', '157474605', '1440846074', '1440893159', '1524127545', '1452864823', '1498713838', '1440650456', '774724906', '1538224926', '1548999791', '1440887524', '1611638078', '1714672042', '1501734799', '1462799615', '1542117666', '1630230657', '1660687479', '474725057', '1087172333', '1599656854', '1646744775', '1635451518', '1607411223', '1600797442', '208141801', '1553630483', '1512781886', '1609018591', '1503868299', '1482953530', '1536235467', '1543483176', '1450835133', '1542724629', '1440814832', '1446114614', '1650481397', '1729919660', '1005197618', '1480895509', '920686007', '1440934987', '1493856143', '1589328718', '1656092693', '1276346740', '1125281654', '1607349076', '1522975220', '1102724654', '1530122786', '1742142272', '1553961069', '1417177314', '1495242917', '1540251305', '1723359649', '1444034395', '1503868262', '1451325374', '1695107056', '1440642738', '1677225665', '1586368089', '1440798422', '1621648148', '1649448030', '1440776985', '1470132717', '1545457143', '1422668496', '1382133279', '1445294421', '1460293188', '1611110244', '1458865937', '1688494452', '1444819097', '1440871952', '1543015442', '994781844', '1558475034', '479974624', '1629221604', '267917716', '1723950207', '1534979661', '1440866786', '1700779008', '1521889940', '1559298082', '1562770085', '1204361238', '1528449002', '573962550', '1185626969', '1621647587', '1440737349', '1102724653', '1547592107', '1244230127', '1438380125', '1555750338', '1457014751', '1600624372', '1439398834', '1499378613', '1463409596', '189225260', '1631420137', '80815209', '190423084', '564834724', '1495242910', '479974626', '1290757540', '1683151495', '1199623321', '1691645361', '1677043317', '1672459634', '1460720142', '1560214310', '1187613600', '1436074981', '1591063136', '1611074745', '1519276821', '1543627485', '1502661910', '1258961855', '1549526465', '1332116495', '1440866799', '1550392338', '1639446532', '1495645022', '1570908026', '1535146864', '1598205968', '1562704190', '1440929293', '1539333001', '1078809353', '1465993856', '1727466937', '1558942398', '1704113653', '1255134907', '1731490455', '1476432973', '1630230440', '1440899642', '1440936036', '1445733073', '1593436340', '1440819805', '1390127675', '1600766206', '1476476191', '1545271091', '1652763449', '1498352628', '1670471404', '1535654244', '1421242781', '1745121696', '1521034614', '1444183095', '1224660473', '1481899378', '1025212410', '1575643978', '1473525323', '1440929590', '1716439291', '1582672310', '1593950803', '1618996297', '1554071987', '1569427660', '1440873235', '1545457742', '1471580172', '1534465829', '1199623323', '1484428432', '1490344395', '1537354164', '1450065538', '1655373398', '1593436344', '1536728264', '283566852', '1622045958', '1654832414', '1445837390', '212257692', '1582282560', '1721159169', '1649840476', '1440855816', '1477650607', '1517395765', '1695651137', '1440657000', '1440734487', '1570908022', '1495267285', '1480423892', '1440798402', '1472157689', '1540281314', '1680837348', '1005171716', '1560371942', '1266332369', '1440866925', '1530216880', '295784144', '1710072194', '1588219795', '1710685789', '1445294289', '916304799', '1651304258', '1508227789', '1461801710', '1631419773', '1593436579', '1511801083', '1530123557', '1465993876', '1442888262', '1542171953', '1228953313', '1668407598', '1490463655', '1440770530', '1447442337', '1659165806', '1531396320', '1539313679', '1393706259', '1258961916', '1440883659', '396894284', '1702084903', '1440932648', '1576249550', '1543292872', '1674086215', '1598422530', '1161504045', '1442289882', '1538223063', '1440899130', '1440883921', '1532162077', '1521889698', '1600570972', '1278159422', '1702085015', '1532163598', '1596533509', '480436634', '1651553794', '1539524821', '1576698467', '1548999417', '1514039893', '1102724634', '1125281717', '1541011625', '1548999803', '1568378197', '1699611428', '724052390', '1443098469', '220195395', '1350021467', '1673098655', '159294485', '1442289891', '1440898471', '1301495401', '1442259365', '1526411772', '1472537032', '1440866949', '1667389615', '1581900039', '1488005634', '1614870427', '1443337632', '1450976254', '1654832818', '1510840889', '1495242920', '1058740894', '1560227449', '1274653478', '1025212469', '1480805090', '1667389371', '1738122647', '1501192859', '1551933026', '1648798556', '1664309822', '1481623883', '1499378601', '1599813598', '1417397131', '1710685783', '1663088927', '1680228730', '1025212477', '1444014491', '1552564114', '1713872733', '1702084999', '1412873019', '1301495399', '1465833007', '1499762755', '1529319418', '1670471813', '1465993864', '1440763964', '1657271969', '270899965', '1368816792', '1087445220', '1547584968', '1480423524', '1663088936', '1648587329', '1445839504', '1719203333', '1229163693', '547979602', '1701008748', '1687216251', '1542824448', '1444958541', '306680888', '1278159347', '1537438777', '1600570979', '1590644825', '1527134516', '1611637849', '1523752064', '1373858942', '1593436117', '1440633802', '1520487419', '1525583144', '1577601863', '1543627482', '1087172339', '1576364325', '353554289', '407880064', '1436651762', '1560137083', '1698212379', '968739474', '1550907178', '1443914479', '1608251779', '1191383499', '1442289887', '388152662', '1464256298', '1271002724', '1732555532', '1560227436', '1440935373', '1445838311', '1566923747', '1688499347', '1450690215', '1655372886', '1708247079', '1556327436', '1321711440', '1225994448', '1636968967', '1515356381', '268314585', '1349882153', '1509736909', '1543627626', '1721293368', '1437479772', '1621399086', '1515289322', '604790234', '1541135579', '1444029397', '1441388353', '1494539476', '1675536370', '1347572545', '1621647599', '1645032552', '920685996', '1719011074', '1587298263', '1045068185', '1470146805', '315025823', '1515791466', '1440769818', '1542724350', '1440849691', '1448541723', '1473497886', '1519877712', '1542022102', '1554081856', '1622045635', '1444124459', '1694337333', '474725075', '1642208415', '1476727675', '1667001133', '1445839313', '266809802', '1206535317', '217363372', '1517963206', '1612972228', '1641994532', '1199623324', '1484636829', '939783796', '1495203249', '1439433673', '1552947023', '1716318437', '1025212453', '1236581188', '1499034677', '1471002395', '1465793981', '1574577872', '1672088794', '632895520', '1031334418', '661233781', '1537438783', '1710685806', '1555323735', '318741548', '1530123552', '1255126129', '1511793606', '1445752837', '939817057', '446274687', '1739497252', '1589051286', '1766613665', '311582881', '1676443011', '1510840886', '1726084556', '1443902358', '1294891095', '1577188640', '1278159362', '1560227098', '1574560044', '1417397128', '1412859345', '1711599155', '1190633167', '1577251848', '1543627504', '1486788278', '1478058952', '1484628799', '1484428442', '1445837386', '1676562275', '1368721920', '1521889796', '1729920511', '1534566939', '1655250864', '1445841428', '1552308382', '1299856904', '1152679729', '1417397902', '1440899134', '1547178527', '1537578937', '599214197', '1060886680', '1440932014', '1601685191', '1536993857', '1440855856', '1440871054', '1440798429', '1260894786', '1709727624', '1690523824', '1649263805', '599900388', '1460720132', '1278159353', '254473968', '1465833005', '1659760881', '1695107060', '1503482233', '1494539468', '1545320397', '1524903269', '1571339161', '1536111294', '1545382980', '942089578', '1699760161', '1708795604', '1278404866', '1426665244', '1560944626', '1440841382', '1591670147', '1622045951', '1590871987', '1651554076', '298399836', '1553381287', '1607561841', '1580652347', '1621207921', '1729920815', '1528282318', '268894617', '1440814433', '1524860229', '1530247683', '1484726281', '1411629089', '1526031448', '1540735959', '1440798411', '1440892573', '1544491988', '1462262997', '908010947', '1260881191', '1512782334', '1236829685', '1570664249', '576670465', '1443217155', '1489505176', '1576364321', '1532776098', '1576340528', '1545457739', '1440855819', '1525805858', '1539314117', '1615128013', '1534467115', '1460720140', '1480458977', '1714012402', '1518035581', '716616967', '1513037923', '1568590254', '1629764814', '964295256', '1654231158', '1655037490', '1440855793', '1102724644', '296790943', '1442851944', '1686012501', '1603171963', '1458047539', '1483089946', '1204361246', '1561719423', '1477917589', '672546855', '908010945', '1688801942', '1299856915', '1440817277', '1408466413', '1631419759', '75664637', '1602739522', '1470132734', '1625085720', '1593949987', '1390127863', '1440762111', '1440896000', '1745132665', '1454074602', '1630928794', '1025212506', '1592720648', '316138190', '1471252936', '1393706415', '1593436327', '1593436128', '1471264099', '1459777204', '328449248', '1599813879', '1489484964', '1589995013', '1569712094', '1489505184', '1318324622', '250953820', '1463409625', '1445302721', '1591315213', '1533345329', '1534816504', '1534254533', '1610139996', '1440820057', '1321711438', '1607411885', '1543627487', '298424131', '1452793094', '1440846018', '1520233767', '1440633807', '1552308383', '1440900396', '1443217171', '1622045640', '1584366739', '1581461327', '1593950336', '1502192083', '1565516739', '1600570973', '1542749097', '1694995919', '1509736254', '1383959282', '1631420072', '1543914599', '1460296616', '1563322888', '1551727012', '1532020511', '1511052520', '1548574733', '1697507976', '1274653477', '1674927015', '1627611756', '1618136921', '1445838047', '1440830959', '1609528809', '1440742920', '1550876512', '1533332127', '590423552', '1056384020', '1488557353', '854900907', '1668407407', '1445296983', '1658668446', '1599813586', '468678077', '1419601421', '1408466412', '1491533278', '1547594828', '1622045625', '1667389244', '1533332111', '1689499375', '1651763194', '1542724025', '1622045643', '1558967528', '1293230542', '1440871558', '298110654', '1672143428', '1331345603', '1440826389', '1313366162', '1445842843', '1713814113', '1434770514', '439618081', '1607411756', '1456316522', '715942411', '1598758856', '1545270164', '1512301465', '1702085020', '1570908019', '1662154329', '1440883725', '1470132720', '1087172337', '1729919130', '1630230762', '1520283880', '1102724639', '1536117479', '1440831214', '1589361893', '1555196661', '1440881570', '439618072', '405930124', '573962554', '1440831619', '1621325314', '1434770509', '1565380336', '1655371585', '1375842302', '617154366', '268528839', '1535838900', '1672143406', '1476637109', '1575788672', '626205216', '1440796955', '1520730810', '1691077069', '1561931904', '1376115725', '1618184281', '1321711437', '1652508867', '1506276443', '1456077679', '1589051295', '1692838486', '1532020748', '581806433', '1440929097', '1617151500', '315458898', '1689867042', '1719292310', '201277862', '1738122675', '1543627489', '1538647039', '1005171714', '1512782327', '1648960300', '924568962', '1500495765', '329938030', '1597852913', '1577804124', '1597855633', '1514875727', '1484726749', '1440739309', '1475557994', '1659158268', '406392443', '79039037', '1469500921', '1441493608', '1542833159', '1437948973', '1535649373', '1440863214', '1593436341', '713532874', '1434770520', '1440656997', '1445748047', '1561986136', '1505375207', '1193701400', '1555344411', '1646945384', '1573358815', '1547768114', '1513067520', '1686500198', '1260864964', '1474891949', '1514523893', '1462983246', '1542265617', '1560210557', '400070198', '1693701381', '467980717', '1451142480', '1481099935', '1593950819', '1672143636', '1025212494', '254003281', '1274152200', '599214100', '1540195212', '1457137062', '1474891950', '1482317478', '1510840499', '1485806072', '1639340687', '1368721926', '1460296621', '1442149608', '1543627501', '1585882936', '1329590123', '1535081702', '1578018120', '257524515', '1445306992', '1530248337', '1274653480', '1538156970', '1536950527', '1692995327', '1542777024', '1257751742', '84809986', '1678362591', '1527210777', '1440855814', '1613247049', '1475015028', '1486717298', '1668407616', '295783978', '1710685813', '1025212449', '1667357940', '1672143059', '1641030222', '1650878552', '1532848606', '1440738413', '1540662678', '1693096208', '1518693955', '279647295', '1518555942', '1461913655', '1668407406', '386153700', '1630230046', '1161504024', '400946435', '1526901417', '1474949212', '268840648', '1445883384', '1687589542', '737799706', '1590619998', '1595674725', '1631420156', '1445843129', '1695107066', '318171823', '1529122072', '1050204624', '1620618116', '296790657', '1495242926', '297325937', '1527688639', '1440873595', '1596853707', '1696001009', '1102724635', '1498288795', '1442149609', '1559927197', '1445840306', '1485287789', '1445881928', '1440887503', '1540629101', '1583485018', '1508637030', '1102724625', '1700779007', '197980923', '1767276295', '1536256739', '1530828888', '1651353172', '1556215808', '1484628793', '780519958', '1509597784', '1529510856', '1776500456', '1485050499', '1532162079', '1199623329', '1440772285', '1738123056', '1451234832', '1437479699', '1577804116', '1443723549', '847966789', '1569712111', '294461793', '1544324113', '1623268279', '1087172329', '1583485392', '1460293194', '1321717849', '1531496404', '1509597776', '1562957460', '1553381058', '1440859977', '1440746942', '1696000175', '1538224927', '1531785778', '1502319171', '1507514425', '1506276879', '1368816818', '1711706730', '1535340961', '1536950539', '927731743', '1475668451', '1493570327', '1186969034', '169930023', '1508395539', '1258978811', '1512308812', '1737094868', '1541227410', '1363311375', '1399573498', '1590036034', '1556327073', '1530123434', '1565141168', '1687654428', '1558913721', '1440841853', '1674872965', '1732043802', '1698981272', '1559606547', '1440735156', '1552473020', '1438765140', '1488408568', '1541405613', '576670464', '1719174142', '264607198', '1499089770', '1728908724', '713212216', '1359293487', '1519275745', '1553892870', '1710266460', '1630005854', '1443217166', '1657869537', '1123280922', '217363250', '1498713819', '1523984274', '1445834051', '1560227439', '564834730', '1538224685', '1585882948', '1670471073', '1743406499', '1470146813', '1628441012', '1442289894', '1583825266', '1452705147', '407367055', '1509736248', '1480423893', '1700779015', '1699712649', '1511800815', '1439511662', '207948951', '1476227191', '1550876522', '1685527254', '1199623330', '1585882930', '1440789563', '1536950528', '73670757', '850697805', '1471264136', '1440760502', '400946531', '1473497695', '21002447', '1591315280', '201275913', '1674957406', '1445099335', '1125281671', '1442937658', '1533894675', '1528282310', '1482220311', '1722364403', '1455283418', '1503721908', '1365288569', '1514039891', '1534065732', '1729920157', '1440849677', '1440657008', '1577804650', '1687589309', '994425114', '1525019809', '1687588992', '1441410309', '1435977345', '1550408587', '1467440098', '1440898173', '328449239', '1370924883', '1440634145', '1440826376', '1169143978', '1564332727', '1099848811', '1500085474', '1685966880', '1699712652', '1445297973', '1641090153', '1557796026', '1260881186', '1508064307', '1340928429', '1588219797', '1444869855', '1597853247', '1442953321', '1238605326', '1700779011', '1018590537', '1579765460', '1636968711', '1278159346', '1620066610', '1593950326', '1741662375', '157474575', '1593950628', '1440620328', '1559112740', '1676442801', '1455672172', '1634523100', '1563904498', '170029998', '1542724034', '1445841194', '335317570', '1741723603', '1440826380', '1474967293', '1222709141', '1526718426', '1440907186', '1487953560', '1578731774', '1440894859', '1536950526', '1444049446', '1568629403', '1468223740', '1620618122', '63490866', '1440819170', '1586194354', '1701691564', '1474712489', '1443217332', '1701166560', '294461792', '1615518626', '1527121989', '1530612635', '1440846263', '1474891723', '1535576460', '290078429', '1025212502', '1456316424', '955207019', '1021570282', '1412859027', '1541549466', '628637645', '1534816502', '1592720583', '1444895741', '1442289883', '1084907448', '1762798271', '72793133', '1630231123', '1442937951', '1545457718', '1489505231', '1445169917', '1539333126', '1398000572', '1748026817', '1508023280', '1443062143', '290078434', '920686000', '1689645107', '1693706802', '1575644352', '79039001', '1585882650', '1418213266', '1754456277', '1442894582', '1457746869', '1290756777', '1542777026', '435261140', '1486875778', '1575789464', '1592720585', '1440819938', '1440899606', '1445190996', '266809617', '1495267468', '1199623362', '1521889535', '1454256094', '1440856569', '1547318068', '1663088530', '1567026427', '1523139750', '1440746953', '1481945603', '1603171968', '1484726741', '1501187734', '1590619988', '1440799199', '1411629046', '178530615', '1627048450', '1673880276', '1668233123', '1441493469', '1677443222', '1440742926', '1729919817', '1502372675', '1523539890', '1440944222', '1541227409', '1631420071', '1440913139', '1526849582', '1579770988', '1566152143', '1445087515', '1621221505', '1613448784', '1545270163', '1555344780', '1434430940', '1441343700', '1710685793', '1445099322', '1628441263', '1451108161', '1676343416', '1484109419', '1577251842', '1440633800', '1651666606', '1646223815', '1437949222', '1687216004', '1434900852', '1584399953', '1480895701', '1556364398', '1611984787', '1146038671', '1545560243', '474725398', '1440866944', '1519060891', '1647641203', '1454256249', '1278404871', '1611056232', '1658116392', '1698975496', '1017055104', '1577804128', '1716630348', '1690268957', '1444221477', '1440934971', '1447442329', '1470132473', '1527121995', '1442812968', '1469149681', '1412873324', '1552564082', '1636070863', '1607411863', '1493856133', '1680836231', '1576021521', '1445837168', '1667389621', '1402965704', '290555300', '1530229808', '1501765543', '1543627484', '1567785715', '1550392347', '1447401626', '1440897218', '1254013962', '1440849850', '1102577421', '1522065922', '1542724112', '1440798507', '1445732940', '1549673941', '1159240561', '1550964831', '1657271974', '1654557694', '1445841856', '1744776167', '1548577336', '1440866934', '269748432', '1685966883', '1407165116', '1445840914', '1544135060', '1545278979', '1637658510', '1560076948', '1172539051', '1693095815', '1473487588', '1519110589', '1464549678', '1491557699', '1483705413', '991343710', '1709727622', '1676443022', '1445840903', '1125281651', '1501192845', '1726958523', '1574734533', '1560944630', '1339429005', '1526080890', '308923658', '1204371559', '1620612211', '919237314', '1693095821', '923691596', '1588328819', '1591315426', '1389160980', '1535226862', '1763638898', '1575636205', '1560827314', '1699529589', '1677000092', '1718936804', '1542824011', '1504150180', '1440814820', '1444196039', '1100121800', '1574994593', '1702085023', '1627217829', '1621923573', '1689867324', '1440737343', '474725403', '1460071156', '1553932243', '1689867038', '1695595239', '1440894525', '965916296', '1732014524', '1749003016', '1304031352', '1530703897', '1622246966', '1438327183', '1440798143', '1579770441', '1710685776', '1440873347', '1542724108', '1681189595', '1536950465', '1506276440', '1440798510', '1655037469', '20913041', '1471444622', '1536993755', '1700779018', '1689681812', '6337732', '1290755970', '290078420', '1518893051', '1326834632', '1437949214', '1465993875', '696523492', '1702084904', '1545457141', '1529510489', '1585882933', '1487662977', '1609129953', '1571302612', '1450695881', '1537438802', '1534295180', '1598662122', '1514039886', '1636546104', '422045110', '1480458980', '201274944', '1517164467', '1655037479', '1654208783', '407880095', '1440863504', '1651553801', '786489670', '1058123026', '1657866103', '1440737322', '261852736', '1596528617', '1644445481', '1440882009', '1321508166', '1754423123', '1588417588', '1529511197', '1670471064', '1646180883', '1484428422', '1107076377', '328449525', '1533648272', '1691645360', '1488530773', '1775794141', '1609752658', '1444958531', '1440083816', '1707048678', '1473497688', '1464024160', '562648267', '1598662003', '1467440122', '1543294620', '1680770373', '1626384676', '1577252186', '1641749156', '1442871977', '1443740923', '1443535465', '1628441265', '1443545691', '1204361242', '1628710588', '1440843405', '626205219', '1704392330', '1483669078', '297325931', '1751753439', '301001057', '1482099133', '1397998219', '201274830', '1452017954', '1440738180', '1486561949', '1585882653', '1736214019', '836769076', '1611414689', '1771970489', '1679636544', '1560227438', '1442953542', '1440811146', '1484628801', '1559344479', '1455535709', '1499378134', '155658510', '1634768784', '1524127380', '1278159404', '258393731', '1440761586', '278785734', '1668407602', '737018845', '1722392591', '1463706040', '1017055098', '1696352484', '1672143631', '1482953522', '1440734492', '1458963106', '1590384281', '1536784300', '1676016762', '1434907282', '1082506273', '1440773584', '1397998213', '1440907429', '529020333', '1495203166', '1443202486', '1552470409', '1540503520', '1766840563', '1651352919', '1570323056', '1693095818', '1697411121', '1576455259', '1684002120', '1524127542', '1566957604', '1762126847', '1680837146', '1509597770', '1608935629', '1440762516', '1590219950', '1525723517', '1463583673', '1512782344', '1440816528', '1534567415', '1545041172', '1574734879', '1565443631', '1532116139', '1501192857', '1584218623', '1698529515', '1278159403', '1672143066', '1025212485', '1440737577', '1536647555', '1526031438', '1514039896', '1617283803', '1476432284', '1577804722', '1534566941', '1363310482', '1224307077', '1678981297', '1573431833', '1440787175', '1610209436', '1445838883', '910085726', '1674927316', '1676514683', '1562704302', '1680836885', '1572968191', '1575789113', '253296859', '1693096348', '386153810', '1543627500', '1448440127', '1575644354', '1224307076', '1603171970', '1521889195', '1438893096', '1444895763', '1440884025', '1689681732', '1668407603', '1440742918', '1479119306', '1434430932', '942821770', '1560227082', '1629718031', '923691589', '1440742914', '157474631', '1525526584', '1710685758', '1536744276', '1540805208', '1442927344', '1685966882', '1440883233', '1481393259', '1471444616', '1735414394', '1524130289', '1440831635', '1078809402', '1440845793', '1359293318', '1495242909', '1714909176', '908010940', '1550876516', '1440851768', '1364946623', '1440822344', '599214101', '1256504651', '1442721874', '1663088930', '1484726761', '1534209962', '1731400902', '1513037943', '721218227', '1565739302', '1495203171', '1634365069', '1440873233', '1482953531', '1591309159', '278785729', '1537577569', '1611097710', '1713814112', '1733550742', '1299857585', '1689681734', '1544184299', '940845260', '1523651247', '1710685809', '1470132743', '716151034', '1691872010', '1444094041', '1689645123', '1278159412', '1523250994', '1694344714', '1552308387', '1643914139', '1299856906', '1541405594', '1253106277', '1412859363', '1599656843', '1442289884', '1509541874', '1272353153', '1588165050', '1530123020', '1585884044', '335317564', '1537859974', '1184286040', '1170698158', '1449059468', '1506276447', '1440637557', '1570908025', '1087165993', '1442405147', '1646228944', '1460415632', '1470132866', '1513457861', '1603171973', '1636014958', '1440845806', '1480895511', '1521889285', '1445838910', '1686429500', '1512888645', '993274902', '1608257486', '1569106852', '1503016858', '1618285316', '1651946537', '1510840879', '1566299699', '1520496260', '1274678086', '323098616', '1563035147', '1146195714', '1555027267', '273199594', '1484726273', '1565443648', '663097965', '1489983610', '355383796', '1387912251', '1441456790', '302992640', '1440767969', '1556363668', '1437662726', '1558420219', '1476432957', '1476015463', '1575636200', '1628900132', '1504150144', '1443271907', '1651553785', '1482953526', '1579620554', '1543627502', '1588335533', '1440718952', '1598758841', '1743205253', '1528282300', '1675947841', '1560227080', '1642816347', '1491557694', '1692994754', '1607411222', '1610209427', '1445036897', '1714908996', '1621325837', '1646230208', '261707283', '1522247040', '1707937269', '1615519031', '1699098141', '1450975813', '1147252595', '1373858927', '1445606850', '1442289886', '1591315272', '1087445213', '1514523883', '1480423894', '1299856905', '269175370', '1776500454', '490912010', '1695107065', '1495267452', '1628710569', '1499686887', '1445839872', '1484428670', '1608257484', '1648802658', '1541734196', '1577252319', '1591315278', '1254572566', '1514307243', '1440831624', '1552308376', '1478421158', '1440881374', '1454006111', '1476701833', '1603409499', '1593950341', '721844019', '1185626971', '1440808172', '1744296373', '1440661039', '1731040430', '281698335', '1761974704', '1622842400', '1558817685', '474725440', '1444627009', '1430138414', '1373858923', '1737150439', '1603171875', '1134976561', '1579502775', '1445839573', '1539435140', '1459161054', '1699100366', '1618745255', '1475351878', '1518693943', '716151136', '1476432288', '1689631763', '1575636173', '1702084897', '253297065', '1475668225', '1486868085', '1611984641', '1481623884', '1447442333', '1542824370', '1577252326', '1619425410', '1543627505', '211509675', '1536490542', '1440846023', '1445309943', '1612367157', '1170691328', '1419763428', '1567422343', '1484726711', '1276760748', '1729919413', '311268896', '400820848', '1439605083', '1513037941', '651515503', '1465833001', '1445839094', '1729262738', '1440859655', '1738122841', '1422667809', '716192601', '1579771312', '1680836429', '1693939293', '1588200819', '1508764150', '1530123170', '1541342009', '341321660', '1444067534', '1684939484', '1458389579', '1440649635', '1533181710', '290078442', '1528282317', '1538822375', '1673851162', '1522975208', '1445172350', '1718464539', '303194468', '1547403581', '1542724253', '1440866961', '1443103778', '1693939277', '1696001002', '1700779013', '1516451236', '1475080333', '1490463660', '1571338857', '1460315319', '1512435468', '1493570317', '1164197135', '1550876518', '1598205691', '1550969789', '1440753859', '713212180', '1530745988', '1537438781', '1452852704', '1687215994', '1279378195', '576655099', '724029214', '1278159407', '1290661205', '1374128228', '1713872724', '1555322156', '1321711433', '1440509869', '301899927', '1257751740', '1488663774', '1602739524', '1581751952', '939778106', '1617332889', '1648587143', '1678410048', '1567422346', '1524127563', '1440892911', '79565436', '1429150053', '1440651305', '1445173229', '1529758485', '1621646415', '1545458232', '1563475448', '780167009', '158965744', '1522407869', '1440881362', '1530450156', '1382585353', '63490852', '1521899679', '1475668441', '1550139757', '1524654260', '1522944033', '723347652', '1608431814', '1603171533', '1575788449', '1005209146', '1580652343', '1440871589', '1537049237', '1445839098', '1561909719', '1596186945', '1440643127', '1522412905', '1198399080', '1039459661', '1411628233', '1626183950', '1005197765', '284349521', '1320781379', '1440651715', '1524127374', '992048093', '1609666704', '250693106', '581748362', '1689681813', '1440831027', '1021810625', '1698741073', '1631420155', '1532924234', '1574558375', '1440830955', '1721293079', '1443313298', '1702742584', '1521889783', '1647921828', '1509736241', '1628441277', '1413595750', '1321711444', '1445839900', '1584194858', '1440934623', '1651352908', '1452002229', '1566222180', '1698256871', '1501192849', '157441893', '1542824369', '1440845900', '1593949631', '1686016783', '1612367164', '1577252316', '1560213955', '1472100275', '1440757476', '3242304', '1611415339', '1467271257', '1502708870', '1520496019', '259985822', '1522916726', '1444201303', '1442846328', '1504703951', '1598422527', '1434770522', '1449434715', '1555239736', '1067479909', '1498352626', '939778138', '1505689066', '1652999417', '1274653787', '1564340958', '1440845903', '1481623864', '1480423889', '1691645265', '1527235921', '1445297977', '1604714420', '1484628788', '1451142308', '1648587140', '1653542691', '301899958', '1473497885', '1025212462', '1476858992', '1469319867', '1440784917', '1729920826', '1599656947', '1623482391', '1553524706', '1398449456', '1641090156', '1613416915', '1578732019', '1542703565', '335317572', '1443063974', '1710650453', '1524860629', '1588328921', '1440831439', '1509598060', '1566209419', '547979606', '1470132744', '1471580177', '1207439864', '1467917750', '1526027187', '1689681810', '1615496274', '1548056959', '299213365', '1562769843', '1524898958', '1540647751', '1440634211', '1442851942', '1668407607', '1451899228', '1102724626', '1554356144', '1005197088', '1444330645', '123141161', '1605013712', '991343402', '1698206841', '1278159420', '923691611', '1610209259', '1440644166', '1378887591', '1440816733', '1680837162', '1437948996', '1185626975', '1601702916', '1473497690', '1460296623', '1087172340', '1620991194', '404141640', '1677042800', '1539798885', '1445125704', '1545270161', '1710685796', '1530123177', '1495267469', '1564530724', '1654832559', '1651352922', '1688487904', '1528282308', '1450695739', '1440770466', '1440910827', '1548999414', '1643914130', '1440871052', '1535081701', '1369439264', '1544491233', '1504150137', '1552308384', '1452877474', '968739473', '1579770573', '1056418396', '1593436575', '1417177308', '1005171719', '1532162092', '1479865007', '1440653537', '1451495157', '1168167310', '1687589315', '1526412272', '1559411290', '1692843173', '1722155232', '1532162082', '1651352681', '503962891', '1440929370', '1696001016', '518748329', '1440932750', '564020971', '1528282303', '1573464762', '1553063946', '1360250596', '1529342975', '1620991181', '1743206630', '1480423888', '1440650861', '254528972', '386153692', '1476432287', '1496893168', '1443757924', '1514039889', '1686513217', '1670471074', '1500491203', '1567422344', '1509338037', '3242306', '1579900224', '1440894698', '576670459', '1756886771', '1422668471', '573962553', '1524860834', '905847802', '1609462367', '1540797518', '1473561032', '1617170965', '1567422342', '1534567603', '1418073379', '1493570330', '1530123167', '1675812183', '1649365886', '1025212483', '1519276586', '1524127536', '1278359675', '1397996977', '1536069832', '159294345', '1443430140', '1498288787', '1655373378', '1445840149', '1199623322', '1598422531', '1487577497', '1008895951', '1481229017', '1509093876', '1663083390', '303131453', '1451142479', '276574470', '1440863204', '1437948994', '1504150141', '1648587318', '1440816429', '1468224509', '1434430942', '1440620326', '1592720580', '1440816734', '1434770518', '1003755519', '1484726466', '1658667997', '1655926337', '1464614290', '1562653722', '1445834188', '1621803889', '1498352636', '1440917719', '1504900973', '1598422534', '183021048', '1510840500', '1445842846', '1572791163', '1702085018', '1440765419', '1628441007', '1728343570', '1720258372', '1183215242', '1440761934', '1249469000', '281698348', '1445129295', '1587239549', '1578731781', '1448420465', '1509135321', '1460720129', '1545039528', '1393706256', '1657271981', '1729920751', '1773333965', '1440831209', '1260881188', '283566853', '1495267470', '1535576449', '1440840292', '1474891965', '1616999234', '473552213', '1445151352', '1489278025', '1440816547', '1440779991', '1533754734', '1536569443', '1440657006', '1440761318', '1450576403', '1161504064', '1684577123', '1484628802', '1393706414', '1440870918', '1600766213', '1672459630', '1592720582', '1450330686', '1534065739', '1488663704', '1530245750', '1440843930', '1440669054', '1575409327', '1660157130', '1552291540', '1442962037', '1445837623', '1444014499', '1440761683', '1412859030', '1533345326', '1452853012', '1442447970', '1541964388', '1470132732', '1464070102', '1523752063', '1102724630', '1440761582', '283566855', '1556765652', '1599813390', '332669919', '1542724352', '1460296636', '1440849674', '1458654148', '1613690720', '1440845891', '1532162078', '513677116', '1621325444', '1688488157', '1440845918', '1444627013', '1542724349', '1536950536', '1509735873', '1463120431', '1545458120', '1233821045', '1473531475', '1524672877', '1693095820', '576670467', '1663022048', '1443433073', '1495267295', '1440737337', '1542724345', '1612884777', '1509597999', '1443217174', '1657831396', '1258961856', '1652798711', '1393706419', '1440771185', '1591714692', '1527730980', '1440845754', '1575643981', '1544494394', '1443560197', '1445842702', '1258961857', '1489544337', '1570908029', '1555380773', '275765412', '1501444977', '365465265', '1515356377', '1630230648', '1578731776', '1490463743', '1440845798', '1440768739', '1125281490', '551515763', '1440849528', '1542022250', '1443217179', '690959813', '1440816531', '854775987', '1513067518', '1021570287', '682102556', '908010944', '1588480740', '1558942272', '418673714', '368017289', '1437479017', '1412872995', '721263820', '1543627493', '1439433452', '1620618456', '1506678026', '1570908016', '1498352797', '955207027', '1005171715', '1552308375', '1368156579', '1556167854', '1313197465', '479974628', '1440852194', '1562479755', '1363310498', '1440872929', '1496624106', '290078427', '1440912688', '1274653786', '1440746460', '1552033073', '1442289550', '1230171310', '1443475754', '1730408582', '1720258739', '1544694284', '1552036362', '1629943111', '1440899613', '1145842967', '290078428', '1478793774', '1445099324', '1739659140', '1708180502', '1536478119', '1460075699', '942089580', '1445287022', '1646294831', '1600766216', '1452017950', '1689645135', '1492786000', '1611984653', '1727219583', '1440872309', '1598205970', '1321711445', '1489505195', '1339428877', '1591544453', '473447516', '1440807259', '1615128026', '1107280221', '1591522235', '1544273405', '1582472106', '314891191', '1493138264', '1693096336', '1592720578', '1588328926', '1562389821', '1569516394', '715942375', '157474613', '1435198798', '1477672845', '1258961907', '1489505182', '1440923351', '1781744113', '1550964310', '1677668538', '303078580', '1693096196', '1516949923', '1445838745', '1278159410', '1247608332', '1445751647', '1498288791', '1564983343', '1440892226', '1676130056', '1648697301', '1537585000', '268532564', '1579770978', '1451062959', '1506220841', '1630231297', '1573314867', '1443217169', '1440761589', '1519276820', '1437479698', '269573364', '1440631316', '1443063971', '1553802441', '1588328825', '1435843165', '1440845685', '1452002225', '1460293191', '1631420048', '1670470692', '1321711446', '1543627481', '1489544335', '1321744889', '1321509966', '1597855444', '1597852917', '1257751741', '1722650003', '1575789461', '1658211561', '1440901533', '1531016360', '1368816755', '1569712108', '1382133280', '1552998357', '1617171578', '1417397132', '1443232529', '1628710399', '1729919819', '1529518695', '1495645015', '1511430284', '1493865708', '1440821116', '1568796347', '1440769896', '994072655', '1440649185', '545398139', '1357862614', '1005197428', '1531042394', '1544204901', '1440914193', '1556322407', '1440853983', '1697423450', '1382133434', '1689867036', '1442259078', '1574054436', '1631420139', '1530123159', '1469916004', '1369109322', '1672454194', '1444895894', '1524781970', '1440738403', '1445841214', '1628441256', '1607411882', '1434430939', '1646713198', '123141832', '1517139159', '1526031439', '1545867526', '1548680765', '1727786080', '1011554663', '1775794154', '1444066613', '1510963598', '1710301697', '1437948983', '1527387199', '1440808688', '1522698321', '1613449008', '1617170968', '1339429001', '1693096067', '1600766218', '1440818819', '1127989702', '1446746239', '1293226014', '1596868397', '1440831036', '1440835649', '1411628967', '1691645449', '581748359', '713212182', '1321510239', '1456576477', '290078426', '1775794150', '1440769014', '1443487057', '254473958', '1554130499', '1705318924', '1480423523', '1767978179', '1440855760', '269573447', '1688499346', '1630005846', '1475668436', '1465993878', '1600783201', '1440866698', '1536950464', '1616416101', '1595961515', '1440917736', '1519276578', '1613247040', '261707248', '1440849354', '1543627483', '1517757017', '1651553470', '1444181639', '1631420162', '1538224683', '126369974', '1687215992', '1695999943', '1440866800', '1447401620', '1694337503', '141842637', '1442289895', '551273032', '1655037484', '1489505230', '1445101951', '1489505186', '1648587841', '1636070991', '1626350031', '1490674653', '1606584228', '1442903161', '1599813881', '1482207655', '1621119977', '1577252189', '1445318602', '1260881176', '1531509680', '1762836495', '1554074676', '1591315269', '296334822', '474725105', '1437955288', '1668461806', '1523356305', '1224307078', '159294296', '1440871593', '1675487549', '1664198712', '1616718637', '1442254599', '1475668446', '1441844542', '1445099330', '1549000164', '1376115727', '1451142483', '1560214309', '1560213957', '1358690954', '536343251', '1532303465', '1570908249', '1574514132', '1258961904', '1557387769', '926187677', '1440899879', '1708274784', '1408465930', '1696333787', '1411627254', '1639369021', '1465183312', '1440771189', '1398123104', '1658668585', '1480895513', '1391552017', '841018305', '599214195', '1440887530', '1440845343', '1440764777', '1440756840', '1628441266', '1514039894', '1440902842', '1443190324', '1600766224', '1640786526', '1460430678', '123141593', '1443704629', '1440771854', '1445053158', '1577554918', '1560186722', '1668455795', '1434346010', '1440898473', '1476858991', '1102724622', '1686502840', '1618058952', '1465993863', '1645085732', '1471022569', '1473497879', '1495645016', '1663088946', '1321575052', '1663088528', '1125281343', '1643049125', '1540686368', '1651920825', '1538554409', '1443217154', '1577252838', '1450695745', '1224307082', '293238901', '1578732010', '1643028251', '1339429008', '1445635833', '560097690', '1339429009', '1608424205', '1326406643', '1591415250', '1599962871', '1294890615', '1591158731', '1712307536', '1440851762', '1614881238', '1721756672', '1545457737', '1604438680', '1589051528', '1473525515', '73240382', '1710685772', '1107076383', '1102724647', '1524555028', '1512301843', '1680836441', '999674732', '1025212459', '1374366126', '1696083506', '1616954052', '1642741959', '1005197094', '1466929480', '1416330941', '1745132686', '1687707949', '1691409154', '1529237887', '290078444', '1260864953', '1177816988', '1442248800', '1484726280', '1600570980', '1513067515', '1383959276', '1444187419', '1437948991', '1422668473', '1712784414', '1111307383', '599214098', '157465470', '1528282306', '1532294554', '1535726555', '1605009743', '1687589551', '1515399887', '1443470697', '1651553790', '1731268133', '1591315209', '551515758', '1445727326', '1655372397', '1706930555', '1581955086', '1513587468', '157453574', '1482245860', '1654557696', '1486717315', '1513038036', '1572001740', '386153478', '1125281487', '1025212507', '303183614', '1600570971', '1527121996', '1440862694', '1720418291', '454593840', '1718295094', '1515356385', '1113239443', '1440650781', '1558721295', '1529001136', '1611415708', '1350105102', '1584281787', '1486717296', '1535576454', '1445171776', '1527121990', '1558431719', '1598051571', '1491075874', '1434430941', '1571009636', '1658668191', '1484584739', '1440649484', '1441844642', '547979604', '1591315212', '1528418228', '1195965741', '1575789000', '1440845743', '1676442816', '1687588987', '1597855629', '1499681337', '1293916717', '1775794157', '1460296624', '1529122385', '1616737768', '1670186981', '1460430671', '1498113064', '1711400758', '275765399', '1577252329', '260541265', '1544494392', '1697507981', '261707067', '76135565', '1278159428', '1266332371', '1649841362', '1368816944', '1733127395', '919237313', '1197080203', '123141075', '1439433443', '1470132472', '1443545701', '847966774', '159294814', '1443063983', '1472498344', '1680836599', '1658668429', '1537682958', '1745103065', '1683994646', '1440798499', '1524860226', '1501843726', '1576455631', '1443808830', '1404461672', '1617171928', '1758993911', '1440762701', '1751753142', '1636364551', '268528722', '1440887519', '1530117659', '1608524456', '944304852', '1464024211', '1540014840', '1500085470', '1648366959', '1434430937', '1440853987', '1443433081', '1489264312', '1522975212', '1680836229', '1146195720', '712330860', '1440831215', '1454441020', '994072605', '1373820766', '1440888021', '1440902961', '1029499101', '1444874677', '1625004750', '1658668586', '1450690201', '1623714455', '1440873225', '1562704187', '1651283919', '1215562540', '1524860404', '1642817143', '1492695855', '1542724024', '1440857878', '1446626448', '1504150136', '1535576452', '1707431385', '1630006763', '1611734944', '1445171584', '1638456837', '1769454783', '1578732009', '1657271971', '1675581799', '1776500453', '1260873360', '1541064236', '1449785344', '1643804350', '252606598', '1689499377', '1059869490', '1440917231', '1422668497', '1025255451', '1606429395', '1606217213', '1025212467', '1460430677', '1524860848', '1561837020', '1452842002', '1440821371', '1525167969', '943142333', '967113433', '940845267', '1741585965', '1538657595', '1581465976', '1475179459', '1544324124', '1440849116', '290078436', '1581849821', '1689867041', '300966688', '1491075856', '1524127538', '1440762709', '1440889511', '1440616470', '1533332123', '1408466415', '1553381559', '1460296368', '290078424', '1592772878', '1258961908', '968739477', '1440872304', '1504150131', '1617907182', '1615128020', '390608227', '1665320673', '1440932018', '1440749503', '1508575906', '1720257728', '1568020294', '1087172336', '1528282305', '713212208', '1536219459', '425298688', '1507810181', '1068225665', '1655773015', '1441480836', '1694584686', '1510840196', '1521890089', '1452852855', '1568384993', '1328527216', '1588328811', '1591315437', '1693096200', '699587136', '1501386480', '1622045634', '1524860398', '1502708363', '1440855797', '1636325215', '1300702242', '1444958539', '939783779', '1545279086', '1682817844', '1561011881', '286734508', '1631420165', '1078338000', '1550876521', '80980125', '1669843862', '1466129432', '341977833', '1646549689', '1321711442', '1507187886', '1439433681', '1440898727', '1513037935', '1676442825', '1652773701', '1440934301', '1411629153', '971238815', '1383959281', '1508023276', '1484726274', '1533648773', '1463583683', '1568378202', '939817048', '1465201708', '1052705831', '1503806717', '1441175215', '1467941856', '1469933970', '1445732934', '1172539047', '1694866880', '1506141295', '1445132729', '1147461227', '1510840183', '1660157695', '1496334826', '1443263280', '1445596491', '1563914790', '955903510', '1440665024', '1687588981', '1584281493', '1702084997', '1538799296', '1593949636', '1770633543', '1527183973', '1440854136', '1536950530', '444991663', '1709605879', '1456217499', '919237319', '1530123446', '1584366189', '1339428880', '1102724648', '1502152820', '1645721200', '1308530936', '1739659145', '193085066', '79039106', '1477672831', '1552986568', '1464024175', '1480040883', '1535808505', '1540251868', '682102554', '1689681814', '1474314120', '1271002726', '693602619', '1342214921', '1647641194', '1511821481', '1486867844', '1440881708', '1562704297', '1776914757', '1623280645', '1670471059', '1589325079', '1533894669', '1673880270', '1560214312', '1476236431', '320422815', '920685984', '1457908308', '1463891558', '303682849', '1440883914', '1553381308', '1484726276', '1436063270', '1578732017', '1440899127', '1404461567', '1440871596', '1539525406', '1457102485', '1102724651', '1564759373', '1440766411', '1553381067', '1625004633', '1489505177', '1495267283', '1649724648', '1260881180', '1687216003', '1599656838', '1445153515', '1514515780', '1731621702', '1677000095', '1698465629', '1507280864', '1686432590', '1571009837', '1440761566', '1443572113', '1440758030', '1514039887', '1495242925', '1511793630', '1523576753', '1593949993', '1545457721', '1654832551', '1680617074', '1639644378', '1440883731', '1440934003', '1480895514', '1690245544', '1738176557', '1523250992', '1501572096', '1445836477', '1092683659', '1578731785', '1680837064', '1123280736', '1518289690', '1644840709', '1443202841', '1581532085', '1540341726', '1672143432', '251088179', '1601702615', '1662164084', '1593777958', '1477672829', '1411628678', '1719951911', '1592720570', '303097206', '1648587675', '1452017942', '1556448950', '1535436205', '1534016227', '1555239741', '374382858', '1480423520', '1662713135', '1764193068', '1187613607', '1559009687', '1653846624', '295784003', '1058093902', '1405116312', '1235896923', '1523250993', '1535809376', '682102266', '1476858999', '257524651', '1278159356', '1440651533', '1515356379', '1051023741', '281701739', '1204361237', '1456606407', '1473487253', '1102724645', '1440843496', '1534853405', '1588328805', '1567422352', '919237350', '1510737003', '1617849835', '1695107062', '1575788658', '1443158896', '1641739743', '1550877481', '1599656839', '276574471', '1729691471', '1445171771', '1770129503', '840431935', '1772713770', '1509736900', '1440863228', '1610195544', '1384782182', '1445839318', '1440863082', '1408465928', '1655372178', '1617333279', '1574994390', '1560214268', '1624127964', '1636070856', '1475668449', '1442782797', '1668407398', '1271002725', '1442289893', '1228854569', '1445836950', '1617656020', '1443089662', '1440769834', '696088668', '1533345330', '1723890944', '1718578280', '629912464', '1672143641', '1446009354', '258595568', '1412859612', '1646502714', '1541342741', '1624210196', '1590619992', '1720257041', '908010946', '1631419761', '1580277861', '1645272615', '1563216565', '1480313966', '1205575439', '63490860', '1511984756', '1440866941', '1484428424', '1514039890', '1689681803', '1653016430', '564392608', '1697335350', '1572861431', '1588328918', '1444010854', '1570332385', '1654557989', '1440650719', '1720257710', '1648587666', '1025212476', '1679327087', '1579142949', '1439433433', '1535576450', '1384782406', '560097694', '1574994591', '1125281670', '1440827791', '1598205693', '1118944796', '1442149117', '1687589300', '1677000082', '1524127384', '1567455751', '1662166406', '1440862129', '1676736128', '1464025342', '1440855809', '1440903814', '1695602541', '1440649640', '1440761691', '1094931875', '299250803', '200007015', '1727258150', '1532924240', '1717534729', '1498352798', '1545586926', '1412859023', '1422667810', '1521368963', '1525184770', '1578766540', '1445147954', '1452810397', '1440845914', '1556722419', '290078440', '1593949998', '1689681729', '1511418575', '1560227445', '880422205', '1475668448', '386153613', '1443217232', '1517963205', '1009454978', '847966786', '1480895699', '1499378115', '1511984758', '1437479020', '1477260921', '1678179376', '204952431', '1775794158', '1569112459', '1525183487', '1711400754', '1418975106', '1667733548', '1510184843', '1686012819', '1710072183', '1739698459', '1440863105', '1274302356', '1509598067', '1440098017', '1566111806', '1573963182', '212855444', '1490897609', '854911644', '1025212466', '1504150133', '323098614', '1475177831', '1597855640', '1442812979', '1556167842', '1440862975', '1494073581', '1413595981', '1542824351', '1444888909', '1444201924', '1655220374', '1437479703', '1710685803', '1598017455', '1603171527', '1711312912', '1534816488', '157516955', '1369380479', '1440657101', '1561009301', '1636957322', '559334762', '1434430938', '1445017004', '1538652674', '1654418949', '1440742907', '1555344421', '1557844616', '854890162', '1524127544', '1418058530', '1631420161', '1592720572', '1025212457', '1607789549', '1719932912', '1442944439', '632895522', '1533332128', '974485474', '1739659142', '296790660', '1693095817', '1443455475', '1736548656', '1500702408', '1560721777', '1524293329', '1493810278', '1607411225', '1440834815', '1489202181', '1567422340', '1524860395', '1445872735', '1442903154', '1641749162', '189225239', '1440831453', '1607348771', '1440662811', '1446040610', '1440883656', '1599813592', '1476859003', '1540430710', '1769470472', '1168822109', '1472466790', '1443430146', '1543627488', '1451097831', '1560071629', '318171779', '303049736', '576670458', '1450541516', '309066841', '1651728161', '1630005850', '1215426433', '1577804123', '1610589963', '1383959277', '1517894609', '1442149605', '1631420136', '1506280907', '1502070483', '1562704201', '1517894601', '1463232194', '1473525510', '1445732931', '288148533', '269573303', '1440761576', '1553381298', '1484726730', '1299856911', '1645154643', '1440808179', '1441154437', '1492530278', '1440828379', '1445732928', '1522975233', '1577804121', '1500821178', '1439399033', '1610209570', '1551479992', '1440738491', '1445172380', '1434416639', '1445297976', '978194965', '1497605323', '1721244297', '1511562950', '1622090014', '1199623365', '1489484719', '80429794', '1448869076', '1469319615', '1593949990', '1480895702', '1654122974', '1611414770', '1440767968', '1577804675', '1534062425', '1499127838', '1512152420', '1567839548', '1490154951', '1278159462', '1551397218', '1494757792', '1440842561', '1084907441', '1442917587', '1562947439', '1663083394', '1490344644', '1720257734', '1440720093', '1457819247', '1440879821', '1090779893', '296334757', '1561143399', '1440663045', '1590036031', '1684280769', '1577856018', '1676442822', '1440827935', '1440866796', '1652775736', '1440859345', '1542327900', '1470132735', '1192537663', '1521889201', '1493856135', '1495242923', '1476858993', '1548662915', '1586424679', '1452813553', '1466028158', '1495267455', '1510840416', '1495203248', '1524860250', '1571169194', '1558206869', '1470132725', '1612367162', '1547409264', '1258961899', '1494022963', '1465993880', '1533884379', '926187917', '1533332114', '1693096213', '1693096349', '1730984083', '1290756770', '1321217032', '1477333589', '1686500715', '1655371290', '1495242916', '1663088947', '1642742222', '1579255914', '994727314', '1495267473', '1445409363', '1630005848', '850697815', '1620618460', '1706565587', '1639598345', '1440867041', '1477086125', '1642816694', '1440545857', '1383959284', '1589845833', '1445136075', '1606254376', '6595443', '581806441', '713223021', '1553522322', '1539313681', '1290757522', '1631874092', '1441819350', '207246319', '1541734596', '1339459695', '1318665245', '547979600', '1542723776', '1562704182', '1475668440', '1278159344', '1595227748', '1709172645', '1539774201', '1482953816', '1278159343', '1519060870', '1440767680', '1440808321', '1484726459', '1540341484', '288167235', '1500085472', '1498352630', '1442851843', '1583485388', '1440862968', '1472454958', '255425068', '1509311437', '1580606971', '1440872014', '1440934618', '1299856919', '215579478', '716151170', '1329081622', '1440885739', '400070201', '1440830706', '1611056020', '1646032786', '1551382868', '1573834265', '1712665512', '1539933545', '1591315279', '1663088525', '1597852919', '964985306', '1456679889', '1714908987', '1711515104', '1440826364', '1648802656', '1538224684', '1443677388', '1632479551', '1058123023', '1634756979', '1658668251', '1569820423', '691678138', '1455687957', '1775194734', '1368816795', '1400124399', '1440866078', '1480895508', '266809755', '282798844', '1444870911', '190429702', '1479485745', '299213372', '1440896009', '1440845524', '1490154943', '599214194', '1597855638', '1405197239', '1443430125', '1738421050', '1434350934', '1480458979', '1677030975', '1511793477', '1643914154', '1657271963', '1599813576', '1443664156', '1524859953', '1440826575', '1611110254', '157489625', '1460296638', '250502381', '868916342', '1528412291', '1658668595', '1720463519', '1589051302', '1672143424', '76135599', '1775794156', '1248113617', '1522975217', '1621647576', '1511016827', '1526031577', '1686502521', '1540708459', '1613519220', '1502838763', '1440742911', '897619768', '1456179769', '1550392339', '1463409716', '1003755486', '1440882426', '1339429003', '1525583145', '1210220290', '1588164339', '1445309527', '1492389441', '1440841857', '1541069518', '358055904', '1532135317', '1620618464', '1514738804', '1434416646', '1100826073', '663432277', '1445865321', '1416389994', '1568377985', '290078443', '1441456786', '1444877541', '1693095816', '1519366620', '1556123059', '1440860281', '1555345120', '1493855973', '1549935726', '1574577875', '1602739519', '1631419763', '1374366129', '1668407613', '1607349081', '1050385378', '1615102593', '1657271966', '513677117', '1440885474', '1465832873', '1440857207', '1411544691', '1421575824', '1532020386', '1655371283', '1496639586', '1635678632', '1512781870', '1590513969', '332669690', '252606581', '1453908558', '1631420064', '559334757', '1616792007', '1750362205', '1539876145', '1530123175', '1598730993', '1301495398', '1445858403', '1584720627', '1081573445', '1058123158', '269573341', '1440503659', '1567285165', '1533648510', '1578731779', '1467243715', '1555750805', '1440761938', '1676343411', '1244230126', '1434463737', '1707229870', '1519542085', '1533345327', '1597852916', '684954532', '1539899333', '1489508658', '1440637556', '1558942166', '1593949644', '1655037165', '1440859919', '1557715156', '1512781893', '1524127546', '1589417425', '1445867318', '1559782446', '1087165992', '264607314', '1651763192', '1556722432', '1583485395', '1209402510', '1526031441', '273598929', '1443272846', '1668298715', '1348039996', '1531768061', '1274653479', '1599813886', '571118590', '1625903627', '1459193289', '1440925418', '1540797523', '1440742910', '264607329', '914225088', '1102724643', '1539123018', '1443217167', '1390606627', '1535576461', '1459930605', '1444890132', '1575642021', '1576844858', '1674960055', '1454324518', '1597852925', '1720038470', '1412859020', '311288439', '1479737185', '1542107427', '1510840503', '1438773417', '1440818114', '1278159461', '1691752610', '1493449805', '1417786422', '1574967838', '1588754588', '1719684100', '1735424849', '1399277978', '1221737912', '1440669773', '1480423525', '1309837226', '1475039110', '1657831404', '1445318607', '1677006158', '1545264800', '1500085471', '1348475537', '1654557689', '1510841249', '626205874', '1644190880', '1188858101', '1025212470', '1686500708', '1702085009', '1533813609', '328449358', '1611984656', '1597855641', '1163944071', '1720257716', '158796562', '1536801863', '1330760180', '1500982833', '1058122228', '1440855868', '1527133950', '894791484', '1622045961', '1025212460', '400946439', '1443545694', '1440821315', '1339429004', '1440732116', '1050204631', '1527934382', '1440855866', '1648587330', '1538762963', '1440849363', '1116087435', '270238760', '1730547598', '1435801295', '1600570975', '1440814814', '298144089', '1637996043', '942089571', '1545457726', '926184068', '1547151450', '1475668438', '1530777381', '1651553804', '275765402', '1446745487', '1440761590', '1146038198', '1612867242', '192999725', '1475668442', '1443619417', '316138196', '1600570970', '1540414334', '1445841199', '1443062150', '1682377562', '1671276658', '1567422356', '1550876524', '1646180871', '1532848457', '1446742681', '1557227142', '1440650793', '850697800', '1455842080', '1445834425', '1492389910', '1470132471', '1695127197', '1581982819', '1455582433', '1611984637', '1540341485', '316138189', '1682500319', '1480458976', '1775794152', '617154362', '209464331', '1683019058', '1644866876', '1663088942', '1528435909', '1593436583', '1025212412', '1510840888', '1478604007', '1393706416', '920685988', '309064148', '1463583679', '392306263', '854916106', '1610416249', '1581180951', '1440620229', '1512855973', '1534209963', '1657831252', '1179542906', '1577252704', '1721978200', '1440742929', '251192191', '1597855639', '1470276704', '1442147495', '1481393403', '1547593384', '1444860886', '1654832811', '1534567219', '1321711434', '1451023275', '677938470', '1600783203', '1444214026', '1702081993', '1492786009', '1498352634', '1604124729', '1499111071', '1568377982', '1579765257', '1695999397', '1446040623', '1389160982', '1498352637', '1255220739', '1470132736', '1445165674', '1457085979', '1509598059', '1500776923', '368017283', '1597855631', '1450695872', '1021570284', '1368721908', '1605265259', '1542724030', '1299856914', '1668407606', '79039025', '1513037929', '1473187057', '1720258125', '1229977150', '581806437', '1484428664', '1443259824', '1475668224', '1603171529', '1495242911', '254167909', '1662172441', '1442927342', '1525018197', '1524651577', '1440634221', '1480423522', '1418213403', '1494802801', '1631420153', '920685998', '1574630861', '1260864952', '1445840141', '1545040929', '1520396361', '1246058733', '1558942277', '1562795689', '1440849827', '1440892706', '1586855020', '626205217', '1762105083', '1502708857', '1593436347', '1450406004', '1564334148', '1542724648', '1274653782', '1269707846', '1659760882', '1598422627', '1446357158', '1294890449', '1440818035', '30372391', '1578731777', '1435255869', '1550876519', '1495267480', '1593212805', '1610210777', '1025212411', '1440761688', '1515887597', '1559010261', '1446014906', '1523148217', '1521889934', '318171836', '1617170971', '1293229677', '1689867039', '733065098', '1658667982', '1440829606', '1504754428', '1702084899', '187955033', '1071984609', '1711706717', '1650880911', '1778251564', '1527121998', '1666913612', '1504150178', '1536634124', '1729919830', '1422668500', '1754603367', '1445839016', '1498352635', '1559606497', '1457091341', '1444627005', '1521937526', '1440924438', '1616998206', '1571507889', '1585414815', '1617192255', '1473307010', '1542724005', '290078430', '1533940305', '1614548303', '1701166263', '1677043319', '308923659', '1466305474', '1686016659', '1687809996', '1441154580', '1550034890', '1440761905', '1440934305', '1528282315', '513677118', '1521889778', '256097841', '369033234', '1338945520', '1473525513', '1613246760', '1582637683', '1193701392', '1526459608', '996788062', '1534816308', '388151894', '1504150176', '647928233', '926946201', '1442259243', '1445839497', '1440906939', '1506296558', '1524860987', '1440846133', '1680837363', '76135625', '1278808870', '1234767923', '1631420046', '296393515', '1500085473', '1440513656', '1476432969', '920685997', '1655037470', '1471264096', '1440633798', '1419779121', '1444627022', '1502144759', '1699095398', '1704744152', '1521889203', '968739475', '1446952438', '1597852920', '1684002119', '1498408505', '1480423891', '1145029230', '1729920804', '1055074640', '1373517314', '920686002', '1384782405', '1339428875', '1459074828', '1523964528', '1490463936', '1494539475', '1611984661', '1542841752', '1440657007', '1613230643', '1445840892', '1743207415', '1676442802', '1025212481', '424480825', '1440871717', '1534029886', '1009454284', '1450829714', '1617170966', '1484678556', '1017055088', '1509020687', '1510002048', '1475347684', '1700736336', '1575789107', '1670471077', '1687589770', '1615089001', '1648802668', '1440808312', '1532164078', '1484726893', '1444014892', '1478220942', '1625903633', '1772952836', '1651353167', '1078293239', '559334752', '1445284700', '1560227087', '1532371208', '1543985971', '1440873230', '1440798269', '250690035', '1472614554', '1695555424', '1548999422', '806427723', '251948354', '1552816126', '1412872999', '1451564334', '1440849544', '1521889286', '1478221382', '1564023149', '1486867888', '1440871600', '1692844959', '1039459656', '1652119181', '1584836391', '1443711628', '1645967735', '1441729958', '1516717770', '1477057894', '266365293', '1778247666', '1693096078', '1537438788', '1537438325', '1470132745', '1451142315', '1592720576', '269175261', '1499378612', '261707129', '1460296629', '1490463728', '1332777578', '1643660602', '1775794399', '908010943', '1531445990', '1482953244', '1039459662', '1501840568', '1542878244', '1541219097', '1606800442', '1278159415', '1694584974', '1440952839', '1542635755', '1774633584', '1447554992', '1489505188', '1463409610', '1630230431', '1405228707', '1580652358', '1490463643', '1445836816', '1598662129', '1440830586', '1575788673', '1625981207', '1731237108', '1567180787', '1495267456', '1437479700', '1545457743', '1644191107', '1339428876', '1440616468', '1674927322', '259986201', '1148747718', '896030001', '716172547', '1445311374', '1738122846', '1504150134', '1480458978', '1440796148', '1745162995', '321974702', '1588309299', '1476476028', '1405298786', '1533345335', '1548577334', '1436069261', '1443478650', '1445146177', '1603171957', '1538734206', '1440659904', '282798824', '1491533598', '966411602', '1630006146', '1422668495', '1556765289', '1488583995', '585049628', '1624540772', '1516033441', '1443431802', '1452852837', '1481920450', '1511793615', '1475371578', '1680836444', '1444011080', '1591315268', '1524127537', '1574558210', '1614704412', '1574515115', '159294478', '1657271965', '1500702140', '158423892', '1463706044', '1438892836', '1767879325', '1111653406', '1585882655', '1511793999', '576655101', '559334751', '1574515199', '1607411685', '1422828209', '1688022356', '1443213365', '1552308388', '1614564510', '1630005856', '1721442490', '1475177820', '1486675730', '1440734138', '1535726552', '1440783848', '1534209959', '1441388139', '1524127560', '1440841600', '1710685898', '1440816540', '1764369561', '1440826590', '1648995293', '1599362875', '1465832865', '1472816435', '1251713725', '186166358', '1519060879', '1440826369', '1446745143', '1541881578', '1540066168', '1392256437', '1528492755', '1531968364', '1440829770', '1440633816', '1560213956', '1536993855', '1521709551', '1631420066', '1534959765', '1553381295', '1484318074', '1542074839', '1530123009', '1728580901', '1440883653', '1491827947', '1422667804', '1628441002', '1445727316', '1444124853', '489646225', '1615490372', '1545457717', '1440898319', '1575788454', '1765555316', '1443431358', '1775794404', '1499386249', '1528282301', '1440651307', '1735058148', '1556217214', '1445842718', '1620618465', '1524127379', '1646032789', '1733136373', '1435843173', '1596850651', '1522066832', '1440871595', '1584281770', '1495676620', '1597621401', '1440927943', '1687589305', '1440826614', '479974625', '1592720649', '1506109478', '185731686', '1524127540', '1603886515', '1393706413', '1646691988', '1532162093', '333892672', '1654418947', '1679455196', '390608230', '1623490491', '1434430933', '1700779012', '1645721193', '1534798156', '1689681799', '1440828585', '1607411684', '1507935459', '1025212486', '1612367158', '911121216', '1484708046', '1649971012', '1030116024', '1005197617', '1534816484', '1278159366', '1611366719', '1440935869', '1494066781', '1440849699', '1598205688', '1527121999', '1528814702', '1146195712', '1504973564', '1489505193', '1484726277', '1723685881', '1693096073', '1445840320', '1477672435', '1638812758', '1498288796', '1114092217', '328449536', '1558430433', '1498408503', '1440913399', '1521889786', '1446626463', '1321744886', '1548999813', '1684002106', '1445841407', '1524860637', '1588480731', '1133782372', '1440903693', '1480895512', '1631816999', '1630230447', '1530123442', '1373326261', '1555749632', '296790672', '1537438784', '1591415423', '1438380126', '1445318610', '159294551', '1591315424', '1488498498', '1586424677', '1440907745', '1519201113', '1663088935', '1436651862', '1613247051', '1444119074', '1489983613', '1529669516', '1716651580', '1567422338', '1521889532', '1572586523', '1607349088', '1537683163', '1465833003', '1444183110', '1224307075', '1465993869', '1544518504', '446274684', '270246724', '1440925722', '1011549379', '1521889507', '79038990', '283566860', '1434482757', '1545586519', '1541265889', '1555401293', '1561655868', '1519104499', '1617151499', '1445682045', '1695030113', '989483974', '1687216005', '281701718', '1534567211', '1440789557', '1525653344', '1593949997', '1470132721', '1102724641', '1689681797', '1440858500', '1593436132', '1440867050', '311434392', '1672143632', '1523017143', '1376115726', '1570643538', '1440880507', '1657271972', '1445318605', '1611984642', '1579770969', '1484988199', '1496639770', '1536786779', '1561388682', '1723174079', '566322365', '1554222383', '209388682', '1598205692', '1445128389', '1686429258', '1614983838', '311281951', '1648428297', '1725195406', '297325929', '1125281672', '1719780390', '1591544441', '576655102', '1642816151', '302992650', '1443516121', '479974627', '1445099338', '1445099334', '1607349070', '261707259', '1537468979', '1521889519', '1442959466', '1698933732', '1417177301', '1440642743', '927731733', '1513037930', '1440739155', '1543627480', '1586001784', '1726285619', '212227125', '1490463329', '1534816501', '1696000168', '1486710959', '1440826383', '1655984214', '1222844180', '80970960', '1630230433', '576670462', '1615651965', '1489768701', '1547908954', '1540412350', '1445310459', '1440941958', '412028799', '1600570981', '1286661909', '1584194859', '1657271973', '1448701301', '1668448317', '1611638155', '1509736244', '1695999936', '1445055017', '153863163', '1431649521', '1440816527', '713212177', '1533600609', '1687589963', '1485482166', '1622045955', '1535576463', '1519275738', '1705491000', '323098609', '1357774077', '1152679727', '1537438324', '1523648675', '1631069952', '1278159351', '1531330900', '1440816543', '1545457952', '207341067', '320289010', '159293419', '1533707546', '1536801869', '1536862266', '1727024908', '1021871747', '884361599', '1614349425', '1440887517', '1697825185', '1440867047', '1588328800', '1727605965', '1321575049', '1526207485', '1452813659', '1445838045', '1680836426', '1440831218', '1557745423', '1529713112', '1599656855', '1440826415', '1564168666', '1087172341', '1720258034', '1521889528', '1541734195', '1509736257', '1584007757', '1560214277', '1444626865', '1470132867', '1440855489', '1444857802', '1531207148', '1273819138', '1445287571', '1542724633', '1591315267', '1443664171', '1523923824', '1350894405', '1539311903', '1522975219', '1532722046', '1440855852', '1460296620', '1559897787', '1693096080', '1440900102', '1249971618', '1321711443', '78989012', '1495242922', '1551784241', '1440846026', '598054298', '1544536071', '1656133606', '1541223305', '1224307080', '1511793609', '1591315440', '1293343502', '1434770515', '1462777899', '1548999420', '1519276201', '1537068472', '332669684', '1224307079', '1440849573', '1426665599', '1558688544', '1532848469', '1445312625', '1620234713', '1468910018', '1445883291', '1611984654', '695318302', '456565825', '1440891909', '1444014903', '1537882049', '1502329753', '79039095', '1550876767', '1383959283', '1647075955', '1486716755', '1470132726', '1521889948', '1322094233', '1575788664', '6595440', '1668407400', '1545468913', '1570908023', '1596532550', '1438239945', '1440872291', '1437948981', '1585882646', '1495242914', '811747396', '1440900821', '1614119415', '215551449', '1442262914', '1278159409', '1440881578', '1534816480', '1440773792', '1440750745', '1687215995', '295784137', '259985799', '187955937', '1440769463', '1443677220', '1457084723', '1574578313', '1648802667', '1528282312', '1568377980', '1474849233', '1474010374', '1689681798', '940845268', '1551111593', '1393706412', '1509736628', '1600766207', '1191383496', '1017055092', '1535576453', '1495243938', '1717112086', '1440900731', '1025212493', '1384782412', '1526306656', '1540737757', '1445837831', '1591124104', '1521343236', '1517744844', '1440899117', '1611984638', '328449474', '1559839880', '1592720647', '1434430936', '1548290431', '1021810648', '1599656834', '1408465929', '1102724649', '1440624408', '1474849232', '1658203075', '1434770512', '1544834145', '1451142305', '1676016763', '1555383724', '1440863211', '1440831219', '1597855443', '1543866180', '1540797045', '1025212468', '1489505190', '1440810095', '1445836829', '909767585', '1678353906', '1606429413', '547979605', '1572775773', '1526031444', '296790881', '1193701329', '1162248452', '1260873346', '1577804651', '1365751789', '1528562513', '1525583146', '1442147490', '1509736471', '1538224681', '1444034753', '1554346430', '992048202', '920686028', '1102724638', '1445308528', '1493810283', '1526559735', '1436651767', '1442796923', '1199623325', '1445837624', '1440804361', '1566016449', '1514039675', '1519277109', '1684280756', '1560214317', '1436825394', '1529959308', '1440831450', '1607348793', '1534682220', '1521889776', '1576455983', '1515634496', '1648802661', '1445837855', '1541734202', '1506417986', '1049854223', '1604226264', '1445838493', '1738702862', '1617948374', '1383959285', '1444033105', '1524860993', '1440757750', '1591315428', '1501754833', '1440846468', '1537438776', '1688403583', '1549579636', '1495242915', '1484428420', '1657271975', '1538156554', '1513067523', '1233869916', '1526207251', '1511793607', '1486788300', '1476859002', '1714635656', '1614563717', '207157867', '1592772906', '1440863085', '1585881823', '927972924', '1199623326', '1537851342', '1533941756', '1611196163', '1544323621', '1558942387', '1654832867', '1440770518', '1440899745', '1535725138', '1767511513', '1649448033', '1663088527', '214470268', '1495267479', '1651553779', '1529125128', '1368721785', '1003755489', '693606402', '1499378135', '1440919359', '1657271982', '626205222', '209463070', '1582847422', '1514331469', '1212719456', '1667733535', '1544137265', '1257751736', '1681331109', '1539773879', '1443158679', '1674927319', '1775794145', '1573465913', '1579772496', '1600766450', '1087172330', '1445836474', '1585882652', '1440771529', '577629849', '1570414361', '1682095256', '1576455613', '1581659344', '1519159499', '275765397', '1612291967', '1527134405', '1652561999', '573962551', '1051965771', '1680836882', '303183615', '1775794144', '1720307423', '1589153828', '1440881357', '1199623363', '1440657005', '1467439906', '551515708', '1545382976', '1521187607', '1405200192', '1228739609', '1710685768', '1732014523', '1440661299', '1451903287', '290078435', '1412859031', '1602016550', '1440934308', '1520533894', '1670598803', '1502829380', '1531298964', '1484726284', '1560227078', '1574998381', '1618153473', '1569714264', '368016726', '1512301466', '1570908028', '1621325309', '1440863208', '1649448027', '1564367289', '1523402898', '1530122783', '1531047970', '1551111903', '1444958532', '1451142490', '80980182', '1501843722', '1549739598', '1294891012', '1444896442', '1511793625', '985422413', '1570441633', '1397998214', '1410354345', '1687589761', '1583689666', '1690523808', '1593950472', '1443808832', '1599656850', '923691591', '1440898460', '1719203133', '1597855445', '1484726279', '1625903635', '1437948987', '1568377981', '63490848', '79039039', '1635388718', '1005197099', '1526031450', '1580652583', '254473944', '1191526956', '1655037480', '1655372395', '1408466417', '879496526', '1563418150', '1081108452', '1440855802', '1471444676', '474725437', '1546386686', '1440828710', '362277227', '1412859035', '1729919823', '292767854', '1197080202', '1440855862', '1442289892', '1600571232', '1440880537', '1474940909', '1063707510', '1445836479', '1443125346', '1495267290', '1440639066', '1443217159', '1462799631', '1695999405', '1440863217', '1689867035', '1273937462', '1278159414', '1684002118', '1732052123', '1440826586', '1452852850', '1677043526', '1503225769', '1711847405', '1668407402', '1652080289', '1436781869', '1359293315', '1440797117', '1498288792', '1434430935', '1521088485', '1440842350', '1512781874', '283566854', '1510840477', '1655372388', '1597853232', '1405738089', '1445056815', '1558259404', '1574004239', '1440814828', '1598221453', '1436651763', '203279100', '1442149120', '1290756774', '1443261010', '1486868081', '513677115', '1260881181', '1617170975', '1440667554', '1624563284', '1513457863', '1419853280', '1504150142', '1470464204', '1124261982', '1517436397', '1607411224', '779841435', '1541223301', '1440825044', '1631420316', '1575788999', '1351202896', '1553999805', '1498288786', '296016902', '940845257', '1575788998', '1670471084', '1600328946', '1440738712', '1434430943', '1440872135', '1622046238', '1452870036', '1544494717', '1614797590', '1549992918', '1530122794', '1512782679', '1672143623', '1273819129', '1769826935', '1421575825', '1652119182', '1600570984', '1460720143', '1489177035', '507647106', '1654736468', '868691274', '1440873239', '1646100352', '1574513995', '1534816316', '1511794003', '693265858', '1562668450', '1440816550', '1494539466', '1615865431', '1440854328', '1620991201', '1440761685', '1533597866', '1533332115', '1591521911', '919237315', '1695107063', '1451903882', '1321744890', '1444098547', '1440857725', '1544104533', '1580730407', '1440846095', '1473031936', '1280601879', '1515612585', '1493932055', '1655371582', '1440873353', '1504150140', '1440634226', '1440883739', '1713990684', '1584281470', '1423977111', '1697091364', '1359599655', '1613247053', '1453056904', '1718615659', '1576455608', '1453712664', '1199623364', '1440650867', '1545457140', '1600783194', '1683178362', '1446040609', '1621646867', '1285853944', '1495267459', '1047325131', '1111631686', '1215341198', '1532924233', '1570908027', '1413595739', '1359293610', '1574994600', '126369878', '1440859648', '1717867672', '1445837837', '1674927328', '1559356850', '1678208699', '190428286', '1506276430', '1445838317', '1440800769', '1463027714', '1654832871', '1709409006', '513677125', '1550876768', '1650878561', '939783778', '1465832874', '1583485389', '1575789468', '1532162081', '1470132730', '1670471079', '1051046270', '317452817', '1514306074', '1511894046', '1573431769', '1463409601', '1588406547', '1174126458', '1614275963', '172564163', '1656133362', '1611415713', '1388308607', '1434350943', '1599813583', '1388625329', '1722538788', '1528282313', '1711792892', '1531127740', '1598978255', '1469603096', '1668407599', '1600766222', '358633232', '1599656853', '212227035', '1514039898', '1560214314', '1631420068', '1528797791', '1581734316', '1498288788', '1502838773', '1434430934', '1031355368', '1446918495', '1528282319', '1558942148', '1527584879', '1509736640', '1499378588', '1462835270', '1485050194', '1731087609', '1474313959', '561709114', '1500085752', '1532320319', '1509736634', '599900039', '1058123030', '1440831862', '1540007788', '1440934015', '1651304263', '1484313902', '1546287509', '1440846185', '1468224515', '1434770508', '1443432700', '310505569', '1545457716', '1440898480', '1440907406', '1729919685', '1651553797', '260791388', '1479490295', '353554288', '1445028783', '1058123157', '1649448025', '1498288790', '1535561613', '1706527306', '1553419531', '1708393293', '1058123029', '303177407', '1639431677', '1560403949', '1383959279', '1593212824', '1500085748', '290078441', '288790167', '1440731291', '1436555513', '1668407600', '1238395796', '1440862987', '1583485019', '1698212748', '1330326003', '1557376027', '1393706411', '1445838496', '1692427001', '1439433678', '1571009641', '1258961894', '1534816500', '1648799792', '1451142486', '1440836612', '1577252345', '1443062434', '1520831280', '1482953818', '1361807124', '295784159', '1498288797', '1696228258', '1440871817', '1422668493', '1489505183', '1542918403', '1530631415', '513677128', '1641749154', '1603171531', '1273819135', '1576623597', '1582190502', '261707099', '1482953523', '1545431857', '1621025945', '1005197416', '1667368645', '1536966405', '547979771', '1025212458', '1185626968', '1448974638', '1569712099', '1445312188', '1775794407', '513415953', '1471264101', '1528650170', '1722493569', '1423281707', '1586904922', '1657271978', '908010949', '1437949221', '1512782338', '1494857587', '1440855552', '1495203179', '1271002727', '1600570982', '1539333127', '1102724530', '1440764598', '1276346727', '1596901359', '1600571229', '974485473', '1548607327', '269573478', '1593949988', '1535576451', '1529510480', '276441754', '1519172746', '1611092837', '1716979249', '198113982', '1445099326', '589038355', '1465172396', '1260864955', '1455573041', '1443133781', '1719899366', '1598731068', '1440763833', '1772574639', '1440831604', '1321711432', '1553298777', '275496141', '1422667802', '1699114673', '1541783796', '1528282304', '1509736461', '1619858389', '1715744237', '1746431025', '1443914476', '1502641511', '1559603081', '1440843916', '1617171218', '1534814057', '1440872295', '473447492', '1541342005', '1474313951', '1615128029', '220196115', '1471264154', '1535443105', '1680059096', '1263697038', '1509787993', '928631317', '1655037468', '1480423890', '1445846793', '1543513207', '1206947360', '1600766449', '259884539', '1384738237', '1025212505', '1500250111', '1494023050', '1657271967', '1440815182', '1078795587', '1599813395', '1025212503', '1446114615', '1445958399', '1476523219', '1445358773', '1521889521', '968739476', '1445286184', '1557745420', '1442289889', '1423177991', '1718638040', '1321711439', '1483102448', '1445099332', '1446040612', '1606259694', '1652119180', '1655372956', '1615738544', '1445149415', '1197080111', '1435044849', '1649423929', '1675811983', '1445838676', '1561931907', '854891852', '1440845898', '1639242881', '1498989227', '1556123056', '1271002728', '1474313954', '1460407843', '1505375531', '1440449620', '1531561218', '296016892', '1160458623', '1670471082', '1440849575', '1528282307', '1604376332', '309064151', '1560726124', '1729919135', '1526031447', '1720258023', '1528168899', '1526585488', '1631419774', '713223024', '1521889713', '1591315234', '1521651054', '1631145749', '1025212492', '1445282811', '312340708', '1631691624', '1556123261', '1648802659', '1652119178', '1583485022', '1691937636', '1480895696', '1526195703', '1568378199', '1321744891', '1390127871', '1517169876', '257524533', '1440843848', '1498162598', '1622809114', '1440871813', '1515356380', '267264869', '1547384980', '1602608067', '1707468083', '1498387230', '1591315270', '1440849522', '1445606849', '1585884038', '1443124239', '1614870433', '1593436123', '1456060940', '920686001', '1592720568', '1565206698', '1526031443', '1606502091', '1321575051', '1440902665', '1392534929', '1473497691', '1033360497', '1440783502', '1593185593', '1552593040', '1542690150', '1025212474', '1443484544', '1774032675', '1460430757', '1498288793', '1078127193', '1444901754', '1440873342', '1434346001', '1543627492', '1305444999', '1539332998', '1519276182', '1643914309', '1275388037', '1440662804', '1676442807', '322847187', '1512781878', '1484726282', '1571344424', '1588309144', '1662713127', '342397540', '1602739525', '1611984651', '1552308386', '1542824364', '207341076', '1600766453', '1126687316', '1451374604', '1579770154', '1489544338', '1628441558', '1549000147', '1642816688', '1482170623', '1477917776', '1703666338', '1686500195', '1592720579', '1573759999', '1536656403', '1440829610', '1184286090', '1440815195', '1778235438', '1475668444', '415868473', '1440897955', '1592720575', '1445099333', '1321510238', '1612657971', '576655097', '1567422351', '1465993879', '1527040149', '1576273812', '1371597594', '1254572572', '955207021', '1579771942', '972747343', '408331852', '1445099331', '1615652240', '1440818980', '1442903148', '1440742916', '1192147097', '1511430293', '1671276674', '1440764354', '1443677211', '1549004736', '1536950529', '1032739290', '374422167', '1543627494', '1017055087', '371030791', '1474884252', '1047325137', '1482953237', '1444138645', '1570353796', '1438893013', '1714908985', '1548999408', '1571897806', '1603171534', '1443121533', '573962555', '1696184930', '1492683974', '1535703868', '1308645368', '1778053606', '1619001616', '1688498745', '1440742908', '1668219066', '1579770451', '573962561', '1628441284', '1687215999', '1619007597', '1065938815', '1484428669', '1540403219', '1254555499', '1513067525', '1436333142', '1547370306', '1178183793', '1454256105', '1693489585', '1622286556', '1493855975', '1405199644', '1494728128', '1440826588', '1440731310', '1440760661', '1453540618', '1622045626', '1522975296', '1421575803', '1440887759', '1621803883', '80969486', '1440761570', '1692994744', '1578772909', '1393706417', '1484726285', '1484707895', '617452125', '1713814115', '439618071', '1339429007', '1481606180', '966411596', '1651352911', '1560214423', '1447555315', '1591326359', '1503832160', '1592720577', '1611092845', '1440783384', '1444627017', '1440898476', '276574498', '1504150138', '1440620323', '1321744887', '1733136847', '1738882019', '1599813388', '724885777', '1524127547', '1442149604', '441550579', '1445838329', '1440818503', '1522664710', '1526568771', '1476227038', '1053579800', '1501620407', '1087165991', '1440670195', '1526031445', '1495242921', '1561876303', '1450377490', '1554127018', '1440774679', '983798832', '1440862984', '919237322', '1543295595', '1593949634', '1711706842', '1709727625', '1511793634', '1597819217', '1474287390', '1696001021', '1540386768', '1590924634', '1606039979', '1668407399', '1474849253', '1653598591', '1646223281', '1655932844', '1550876517', '1639620271', '1541060450', '1440931798', '1536950532', '1548999800', '1440766589', '1440894838', '1680836867', '1543627491', '1492786018', '1753901404', '1087172332', '1706932298', '1440620324', '1607411221', '1571419232', '1444330638', '1521889205', '1551854407', '1540485635', '1623262465', '1440620322', '1513612227', '1522975216', '1524860246', '1674927317', '1528282302', '286588712', '1492766899', '1611023853', '1558942391', '1664275581', '1577601859', '1655372205', '296016901', '1522975206', '1519360911', '1635461573', '1542734625', '386153641', '1611984655', '1279468400', '1278159363', '1530123165', '1443720826', '1498288794', '1728472289', '1561187604', '1615518619', '1607411677', '1435977002', '1476859000', '1121473193', '1529510858', '1444029386', '1524860845', '1172539103', '1590036269', '599214103', '1440830952', '1498817760', '1477531844', '1443071941', '1367759347', '1445589442', '1543998354', '1440650955', '1440831459', '1677194385', '1498408500', '1503832159', '1554199199', '1521889782', '618261614', '1657271983', '1321711435', '1506280911', '1651554077', '1176771070', '1440866795', '1440911387', '1499378614', '1607411880', '1545525058', '1564531177', '1561967533', '1440653396', '1615519042', '1438893095', '1551479993', '289391680', '1383002835', '1600570985', '1439605082', '1540112421', '1758460239', '1577252832', '1447573595', '201268559', '1467027791', '1297827658', '1339428874', '1443741073', '286588679', '1580652345', '1655037471', '1031925778', '1433740573', '1719575128', '1321719110', '1444059350', '1444048631', '303183618', '1268845888', '1504531754', '1692798059', '1720258393', '1540194801', '1480895510', '1492390176', '1518427891', '1534784125', '1708160521', '1489544333', '1519551260', '1440898469', '1776635977', '1695107058', '1498550279', '1680836884', '1432046868', '1442903905', '1696633686', '1722394721', '407880059', '906888520', '1437949216', '1549000170', '1527121992', '1524127541', '1687589321', '1603171895', '1546287684', '1642580778', '1518820892', '1682598261', '1663088932', '1557528286', '1654832831', '18166859', '1607411862', '1539774198', '583182200', '1631420047', '1638438693', '1549778082', '1616577223', '1516866163', '1487502476', '1538038662', '1382133278', '735095294', '1434770506', '1680708856', '1611984335', '1755022179', '1440779409', '217363251', '1572700203', '1636018995', '1579770971', '1677005886', '1547593385', '1575644353', '1440883906', '1676654776', '1440742923', '1675399424', '1498818368', '1680836606', '1598950582', '1607411683', '1689867037', '1622045637', '1299856916', '1473497694', '911121217', '1515250050', '1440831803', '1440866946', '1598205966', '1363908510', '1321744885', '1359294264', '1502632827', '1658668436', '1493941214', '1519339475', '1373858938', '1585882940', '1443895143', '1358517711', '1655037477', '1515356384', '1440898453', '1570908020', '1440620921', '1647935978', '1440743758', '1418213383', '1648587671', '1607411737', '1025212508', '599214193', '1541734192', '1541392726', '1476858998', '1508242953', '947999963', '1438892853', '1662713137', '1506270208', '1510155345', '1465973556', '928844229', '1668407604', '1542265625', '926184076', '1005197616', '1443217058', '1510840891', '1145854537', '1102724633', '1058122227', '1278159368', '1692995326', '1723221649', '1440831446', '1141509249', '1484726451', '1482245865', '1021810715', '1445099328', '1440849349', '1676313533', '1350894403', '1474313956', '1531791782', '1591521388', '1510840497', '1594016223', '1440852549', '1524860401', '1466328298', '1537438786', '1490646775', '1676443024', '1545458230', '1360401037', '1636827779', '1680837362', '1442289885', '1581532084', '1440831217', '1598422628', '1680708705', '1681332243', '1332777571', '1564136043', '1648587842', '1676343415', '1261046385', '1508023279', '197995774', '313489880', '1499686567', '1679667757', '1731230953', '1658667994', '1503429903', '1658667978', '1591315207', '1258975641', '1569712091', '1592720581', '1497586740', '1447717366', '1440934096', '1629943100', '1509777559', '1605008914', '1058122233', '1220854807', '1440815450', '1005197089', '716150884', '1613464743', '551515751', '1522975221', '1569245462', '1543455326', '1510640052', '1761455582', '1597855635', '1276346319', '1672143429', '1172027012', '955207016', '1597855440', '1219357533', '400946511', '1521889788', '1507280544', '1534567194', '1058123028', '1599656845', '1444610208', '1596186942', '1443416378', '1693938970', '1492695866', '1294835398'}\n",
      "{'182931974', '182924318', '182934314', '182929450', '182927362', '182925586', '182927386', '182925574', '182927110', '182924294', '182925858', '182932486', '182930458', '182927154', '182934322', '182931730', '182934530', '182924046', '182931478', '182930718', '182932482', '182921234', '182926102', '182927126', '182930438', '182931210', '182925062', '182931998', '182924298', '182927618', '182924302', '182927382', '182930210', '182932010', '182926090', '182927378', '182935574', '182931982', '182927410', '182934302', '182934306', '182926130', '182926882', '182930958', '182932274', '182925066', '182927150', '182910758', '182933806', '182932234', '182925082', '182931206', '182925110', '182928418', '182934326', '182924070', '182925874', '182925102', '182931250', '182926122', '182929958', '182925826', '182929666', '182935554', '182930178', '182935558', '182931490', '182931986', '182932230', '182929462', '182933790', '182928902', '182924066', '182930706', '182927374', '182930986', '182935350', '182926898', '182931494', '182925070', '182928642', '182934814', '182925846', '182928430', '182927638', '182926098', '182926894', '182930198', '182927658', '182926126', '182930202', '182931502', '182929682', '182930970', '182928406', '182931238', '182924038', '182927622', '182919710', '182927650', '182927130', '182928674', '182931462', '182931214', '182930714', '182927634', '182927670', '182923830', '182885126', '182933802', '182925074', '182930462', '182931718', '182931246', '182911494', '182925086', '182933778', '182931254', '182930218', '182925834', '182934046', '182931218', '182927402', '182927142', '182935338', '182924806', '182924042', '182923282', '182928650', '182927138', '182924058', '182927122', '182924598', '182925830', '182918674', '182928434', '182927106', '182924078', '182930998', '182924590', '182933810', '182928694', '182925602', '182930486', '182925870', '182924546', '182927890', '182925322', '182934022', '182930470', '182932262', '182930966', '182933814', '182931746', '182935342', '182924034', '182931994', '182931234', '182934318', '182932254', '182927158', '182923542', '182929674', '182927118', '182924306', '182926110', '182931990', '182925318', '182925610', '182930730', '182928422', '182930442', '182927630', '182925878', '182927390', '182907406', '182930194', '182925350', '182932270', '182924846', '182932494', '182929454', '182934818', '182930226', '182926890', '182924310', '182930478', '182930946', '182930474', '182931242', '182930982', '182930734', '182931486', '182930190', '182935334', '182931726', '182931510', '182930962', '182930738', '182884646', '182930446', '182925366', '182931762', '182928394', '182931498', '182931970', '182925606', '182935346', '182932006', '182926094', '182925570', '182929962', '182932238', '182923286', '182925590', '182918706', '182931742', '182930990', '182933282', '182925334', '182925094', '182909706', '182932246', '182928678', '182924086', '182924290', '182928654', '182934050', '182928666', '182925078', '182924074', '182930230', '182927626', '182924050', '182928402', '182930994', '182931230', '182932266', '182924818', '182928438', '182925862', '182932242', '182929974', '182931722', '182925842', '182934810', '182928682', '182925618', '182914606', '182927654', '182935570', '182916390', '182924594', '182923782', '182927414', '182931506', '182924062', '182925106', '182928646', '182924054', '182927370', '182926082', '182932490', '182930206', '182927114', '182925090', '182930186', '182935566', '182932250', '182933786', '182935562', '182934026', '182928662', '182915598', '182924822', '182925838', '182930950', '182931738', '182933798', '182923826', '182925850', '182924834', '182927146', '182929686', '182925314', '182928658', '182929970', '182931714', '182931750', '182930954', '182933782', '182930466', '182926902', '182932002', '182929154', '182931226', '182931734', '182930214', '182932278', '182925854', '182930694', '182931754', '182928670', '182924082', '182930482', '182932022', '182933794', '182928686', '182927394', '182929670', '182924314', '182930726', '182922766', '182932014'}\n"
     ]
    }
   ],
   "source": [
    "expanded_ids = set(expanded_df['Track Identifier'].unique())\n",
    "library_ids = set(library_df['Track Identifier'].unique())\n",
    "print(expanded_ids)\n",
    "print(library_ids)"
   ]
  },
  {
   "cell_type": "code",
   "execution_count": 64,
   "metadata": {},
   "outputs": [
    {
     "data": {
      "text/plain": [
       "set()"
      ]
     },
     "execution_count": 64,
     "metadata": {},
     "output_type": "execute_result"
    }
   ],
   "source": [
    "common_ids = expanded_ids.intersection(library_ids)\n",
    "common_ids"
   ]
  }
 ],
 "metadata": {
  "kernelspec": {
   "display_name": "Python 3",
   "language": "python",
   "name": "python3"
  },
  "language_info": {
   "codemirror_mode": {
    "name": "ipython",
    "version": 3
   },
   "file_extension": ".py",
   "mimetype": "text/x-python",
   "name": "python",
   "nbconvert_exporter": "python",
   "pygments_lexer": "ipython3",
   "version": "3.9.6"
  }
 },
 "nbformat": 4,
 "nbformat_minor": 2
}
