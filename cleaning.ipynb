{
 "cells": [
  {
   "cell_type": "code",
   "execution_count": 1,
   "metadata": {},
   "outputs": [],
   "source": [
    "import pandas as pd"
   ]
  },
  {
   "cell_type": "code",
   "execution_count": 2,
   "metadata": {},
   "outputs": [],
   "source": [
    "data = pd.read_csv('Apple Music - Play History Daily Tracks.csv')"
   ]
  },
  {
   "cell_type": "code",
   "execution_count": 3,
   "metadata": {},
   "outputs": [
    {
     "data": {
      "text/html": [
       "<div>\n",
       "<style scoped>\n",
       "    .dataframe tbody tr th:only-of-type {\n",
       "        vertical-align: middle;\n",
       "    }\n",
       "\n",
       "    .dataframe tbody tr th {\n",
       "        vertical-align: top;\n",
       "    }\n",
       "\n",
       "    .dataframe thead th {\n",
       "        text-align: right;\n",
       "    }\n",
       "</style>\n",
       "<table border=\"1\" class=\"dataframe\">\n",
       "  <thead>\n",
       "    <tr style=\"text-align: right;\">\n",
       "      <th></th>\n",
       "      <th>Country</th>\n",
       "      <th>Track Identifier</th>\n",
       "      <th>Media type</th>\n",
       "      <th>Date Played</th>\n",
       "      <th>Hours</th>\n",
       "      <th>Play Duration Milliseconds</th>\n",
       "      <th>End Reason Type</th>\n",
       "      <th>Source Type</th>\n",
       "      <th>Play Count</th>\n",
       "      <th>Skip Count</th>\n",
       "      <th>Track Reference</th>\n",
       "      <th>Track Description</th>\n",
       "    </tr>\n",
       "  </thead>\n",
       "  <tbody>\n",
       "    <tr>\n",
       "      <th>0</th>\n",
       "      <td>United States</td>\n",
       "      <td>1466328298</td>\n",
       "      <td>AUDIO</td>\n",
       "      <td>20191226</td>\n",
       "      <td>16</td>\n",
       "      <td>203272</td>\n",
       "      <td>PLAYBACK_MANUALLY_PAUSED</td>\n",
       "      <td>IPHONE</td>\n",
       "      <td>1</td>\n",
       "      <td>0</td>\n",
       "      <td>1.466328e+09</td>\n",
       "      <td>Key Glock - Spazzing Out</td>\n",
       "    </tr>\n",
       "    <tr>\n",
       "      <th>1</th>\n",
       "      <td>United States</td>\n",
       "      <td>1466328298</td>\n",
       "      <td>AUDIO</td>\n",
       "      <td>20191227</td>\n",
       "      <td>6</td>\n",
       "      <td>517320</td>\n",
       "      <td>MANUALLY_SELECTED_PLAYBACK_OF_A_DIFF_ITEM</td>\n",
       "      <td>IPHONE</td>\n",
       "      <td>3</td>\n",
       "      <td>1</td>\n",
       "      <td>1.466328e+09</td>\n",
       "      <td>Key Glock - Spazzing Out</td>\n",
       "    </tr>\n",
       "    <tr>\n",
       "      <th>2</th>\n",
       "      <td>United States</td>\n",
       "      <td>1466328298</td>\n",
       "      <td>AUDIO</td>\n",
       "      <td>20191227</td>\n",
       "      <td>18</td>\n",
       "      <td>517320</td>\n",
       "      <td>MANUALLY_SELECTED_PLAYBACK_OF_A_DIFF_ITEM</td>\n",
       "      <td>IPHONE</td>\n",
       "      <td>3</td>\n",
       "      <td>1</td>\n",
       "      <td>1.466328e+09</td>\n",
       "      <td>Key Glock - Spazzing Out</td>\n",
       "    </tr>\n",
       "    <tr>\n",
       "      <th>3</th>\n",
       "      <td>United States</td>\n",
       "      <td>1482953532</td>\n",
       "      <td>AUDIO</td>\n",
       "      <td>20191227</td>\n",
       "      <td>6</td>\n",
       "      <td>362874</td>\n",
       "      <td>NATURAL_END_OF_TRACK</td>\n",
       "      <td>IPHONE</td>\n",
       "      <td>2</td>\n",
       "      <td>1</td>\n",
       "      <td>1.482954e+09</td>\n",
       "      <td>YoungBoy Never Broke Again - In Control</td>\n",
       "    </tr>\n",
       "    <tr>\n",
       "      <th>4</th>\n",
       "      <td>United States</td>\n",
       "      <td>1482953532</td>\n",
       "      <td>AUDIO</td>\n",
       "      <td>20191227</td>\n",
       "      <td>18</td>\n",
       "      <td>362874</td>\n",
       "      <td>NATURAL_END_OF_TRACK</td>\n",
       "      <td>IPHONE</td>\n",
       "      <td>2</td>\n",
       "      <td>1</td>\n",
       "      <td>1.482954e+09</td>\n",
       "      <td>YoungBoy Never Broke Again - In Control</td>\n",
       "    </tr>\n",
       "  </tbody>\n",
       "</table>\n",
       "</div>"
      ],
      "text/plain": [
       "         Country  Track Identifier Media type  Date Played Hours  \\\n",
       "0  United States        1466328298      AUDIO     20191226    16   \n",
       "1  United States        1466328298      AUDIO     20191227     6   \n",
       "2  United States        1466328298      AUDIO     20191227    18   \n",
       "3  United States        1482953532      AUDIO     20191227     6   \n",
       "4  United States        1482953532      AUDIO     20191227    18   \n",
       "\n",
       "   Play Duration Milliseconds                            End Reason Type  \\\n",
       "0                      203272                   PLAYBACK_MANUALLY_PAUSED   \n",
       "1                      517320  MANUALLY_SELECTED_PLAYBACK_OF_A_DIFF_ITEM   \n",
       "2                      517320  MANUALLY_SELECTED_PLAYBACK_OF_A_DIFF_ITEM   \n",
       "3                      362874                       NATURAL_END_OF_TRACK   \n",
       "4                      362874                       NATURAL_END_OF_TRACK   \n",
       "\n",
       "  Source Type  Play Count  Skip Count  Track Reference  \\\n",
       "0      IPHONE           1           0     1.466328e+09   \n",
       "1      IPHONE           3           1     1.466328e+09   \n",
       "2      IPHONE           3           1     1.466328e+09   \n",
       "3      IPHONE           2           1     1.482954e+09   \n",
       "4      IPHONE           2           1     1.482954e+09   \n",
       "\n",
       "                         Track Description  \n",
       "0                 Key Glock - Spazzing Out  \n",
       "1                 Key Glock - Spazzing Out  \n",
       "2                 Key Glock - Spazzing Out  \n",
       "3  YoungBoy Never Broke Again - In Control  \n",
       "4  YoungBoy Never Broke Again - In Control  "
      ]
     },
     "execution_count": 3,
     "metadata": {},
     "output_type": "execute_result"
    }
   ],
   "source": [
    "data.head()"
   ]
  },
  {
   "cell_type": "code",
   "execution_count": 4,
   "metadata": {},
   "outputs": [],
   "source": [
    "def split_hours(row): \n",
    "    hours = str(row['Hours']).split(', ')\n",
    "    rows = []\n",
    "    for hour in hours:\n",
    "        new_row = row.copy()\n",
    "        new_row['Hours'] = hour.strip()\n",
    "        rows.append(new_row)\n",
    "    return rows"
   ]
  },
  {
   "cell_type": "code",
   "execution_count": 5,
   "metadata": {},
   "outputs": [],
   "source": [
    "expanded_data = data.apply(lambda row: split_hours(row), axis=1)\n",
    "expanded_data = [item for sublist in expanded_data for item in sublist]"
   ]
  },
  {
   "cell_type": "code",
   "execution_count": 6,
   "metadata": {},
   "outputs": [],
   "source": [
    "expanded_df = pd.DataFrame(expanded_data)"
   ]
  },
  {
   "cell_type": "code",
   "execution_count": 7,
   "metadata": {},
   "outputs": [
    {
     "data": {
      "text/html": [
       "<div>\n",
       "<style scoped>\n",
       "    .dataframe tbody tr th:only-of-type {\n",
       "        vertical-align: middle;\n",
       "    }\n",
       "\n",
       "    .dataframe tbody tr th {\n",
       "        vertical-align: top;\n",
       "    }\n",
       "\n",
       "    .dataframe thead th {\n",
       "        text-align: right;\n",
       "    }\n",
       "</style>\n",
       "<table border=\"1\" class=\"dataframe\">\n",
       "  <thead>\n",
       "    <tr style=\"text-align: right;\">\n",
       "      <th></th>\n",
       "      <th>Country</th>\n",
       "      <th>Track Identifier</th>\n",
       "      <th>Media type</th>\n",
       "      <th>Date Played</th>\n",
       "      <th>Hours</th>\n",
       "      <th>Play Duration Milliseconds</th>\n",
       "      <th>End Reason Type</th>\n",
       "      <th>Source Type</th>\n",
       "      <th>Play Count</th>\n",
       "      <th>Skip Count</th>\n",
       "      <th>Track Reference</th>\n",
       "      <th>Track Description</th>\n",
       "    </tr>\n",
       "  </thead>\n",
       "  <tbody>\n",
       "    <tr>\n",
       "      <th>0</th>\n",
       "      <td>United States</td>\n",
       "      <td>1466328298</td>\n",
       "      <td>AUDIO</td>\n",
       "      <td>20191226</td>\n",
       "      <td>16</td>\n",
       "      <td>203272</td>\n",
       "      <td>PLAYBACK_MANUALLY_PAUSED</td>\n",
       "      <td>IPHONE</td>\n",
       "      <td>1</td>\n",
       "      <td>0</td>\n",
       "      <td>1.466328e+09</td>\n",
       "      <td>Key Glock - Spazzing Out</td>\n",
       "    </tr>\n",
       "    <tr>\n",
       "      <th>1</th>\n",
       "      <td>United States</td>\n",
       "      <td>1466328298</td>\n",
       "      <td>AUDIO</td>\n",
       "      <td>20191227</td>\n",
       "      <td>6</td>\n",
       "      <td>517320</td>\n",
       "      <td>MANUALLY_SELECTED_PLAYBACK_OF_A_DIFF_ITEM</td>\n",
       "      <td>IPHONE</td>\n",
       "      <td>3</td>\n",
       "      <td>1</td>\n",
       "      <td>1.466328e+09</td>\n",
       "      <td>Key Glock - Spazzing Out</td>\n",
       "    </tr>\n",
       "    <tr>\n",
       "      <th>2</th>\n",
       "      <td>United States</td>\n",
       "      <td>1466328298</td>\n",
       "      <td>AUDIO</td>\n",
       "      <td>20191227</td>\n",
       "      <td>18</td>\n",
       "      <td>517320</td>\n",
       "      <td>MANUALLY_SELECTED_PLAYBACK_OF_A_DIFF_ITEM</td>\n",
       "      <td>IPHONE</td>\n",
       "      <td>3</td>\n",
       "      <td>1</td>\n",
       "      <td>1.466328e+09</td>\n",
       "      <td>Key Glock - Spazzing Out</td>\n",
       "    </tr>\n",
       "    <tr>\n",
       "      <th>3</th>\n",
       "      <td>United States</td>\n",
       "      <td>1482953532</td>\n",
       "      <td>AUDIO</td>\n",
       "      <td>20191227</td>\n",
       "      <td>6</td>\n",
       "      <td>362874</td>\n",
       "      <td>NATURAL_END_OF_TRACK</td>\n",
       "      <td>IPHONE</td>\n",
       "      <td>2</td>\n",
       "      <td>1</td>\n",
       "      <td>1.482954e+09</td>\n",
       "      <td>YoungBoy Never Broke Again - In Control</td>\n",
       "    </tr>\n",
       "    <tr>\n",
       "      <th>4</th>\n",
       "      <td>United States</td>\n",
       "      <td>1482953532</td>\n",
       "      <td>AUDIO</td>\n",
       "      <td>20191227</td>\n",
       "      <td>18</td>\n",
       "      <td>362874</td>\n",
       "      <td>NATURAL_END_OF_TRACK</td>\n",
       "      <td>IPHONE</td>\n",
       "      <td>2</td>\n",
       "      <td>1</td>\n",
       "      <td>1.482954e+09</td>\n",
       "      <td>YoungBoy Never Broke Again - In Control</td>\n",
       "    </tr>\n",
       "  </tbody>\n",
       "</table>\n",
       "</div>"
      ],
      "text/plain": [
       "         Country  Track Identifier Media type  Date Played Hours  \\\n",
       "0  United States        1466328298      AUDIO     20191226    16   \n",
       "1  United States        1466328298      AUDIO     20191227     6   \n",
       "2  United States        1466328298      AUDIO     20191227    18   \n",
       "3  United States        1482953532      AUDIO     20191227     6   \n",
       "4  United States        1482953532      AUDIO     20191227    18   \n",
       "\n",
       "   Play Duration Milliseconds                            End Reason Type  \\\n",
       "0                      203272                   PLAYBACK_MANUALLY_PAUSED   \n",
       "1                      517320  MANUALLY_SELECTED_PLAYBACK_OF_A_DIFF_ITEM   \n",
       "2                      517320  MANUALLY_SELECTED_PLAYBACK_OF_A_DIFF_ITEM   \n",
       "3                      362874                       NATURAL_END_OF_TRACK   \n",
       "4                      362874                       NATURAL_END_OF_TRACK   \n",
       "\n",
       "  Source Type  Play Count  Skip Count  Track Reference  \\\n",
       "0      IPHONE           1           0     1.466328e+09   \n",
       "1      IPHONE           3           1     1.466328e+09   \n",
       "2      IPHONE           3           1     1.466328e+09   \n",
       "3      IPHONE           2           1     1.482954e+09   \n",
       "4      IPHONE           2           1     1.482954e+09   \n",
       "\n",
       "                         Track Description  \n",
       "0                 Key Glock - Spazzing Out  \n",
       "1                 Key Glock - Spazzing Out  \n",
       "2                 Key Glock - Spazzing Out  \n",
       "3  YoungBoy Never Broke Again - In Control  \n",
       "4  YoungBoy Never Broke Again - In Control  "
      ]
     },
     "execution_count": 7,
     "metadata": {},
     "output_type": "execute_result"
    }
   ],
   "source": [
    "expanded_df.head()"
   ]
  },
  {
   "cell_type": "code",
   "execution_count": 8,
   "metadata": {},
   "outputs": [
    {
     "name": "stdout",
     "output_type": "stream",
     "text": [
      "<class 'pandas.core.frame.DataFrame'>\n",
      "Index: 73329 entries, 0 to 60331\n",
      "Data columns (total 12 columns):\n",
      " #   Column                      Non-Null Count  Dtype  \n",
      "---  ------                      --------------  -----  \n",
      " 0   Country                     73329 non-null  object \n",
      " 1   Track Identifier            73329 non-null  int64  \n",
      " 2   Media type                  73329 non-null  object \n",
      " 3   Date Played                 73329 non-null  int64  \n",
      " 4   Hours                       73329 non-null  object \n",
      " 5   Play Duration Milliseconds  73329 non-null  int64  \n",
      " 6   End Reason Type             73329 non-null  object \n",
      " 7   Source Type                 73329 non-null  object \n",
      " 8   Play Count                  73329 non-null  int64  \n",
      " 9   Skip Count                  73329 non-null  int64  \n",
      " 10  Track Reference             69437 non-null  float64\n",
      " 11  Track Description           73327 non-null  object \n",
      "dtypes: float64(1), int64(5), object(6)\n",
      "memory usage: 7.3+ MB\n"
     ]
    }
   ],
   "source": [
    "expanded_df.info()"
   ]
  },
  {
   "cell_type": "code",
   "execution_count": 9,
   "metadata": {},
   "outputs": [],
   "source": [
    "expanded_df = expanded_df.drop(index=[11219,11715])"
   ]
  },
  {
   "cell_type": "code",
   "execution_count": 10,
   "metadata": {},
   "outputs": [
    {
     "data": {
      "text/plain": [
       "(73327, 12)"
      ]
     },
     "execution_count": 10,
     "metadata": {},
     "output_type": "execute_result"
    }
   ],
   "source": [
    "expanded_df.shape"
   ]
  },
  {
   "cell_type": "code",
   "execution_count": 11,
   "metadata": {},
   "outputs": [
    {
     "data": {
      "text/plain": [
       "0        False\n",
       "1        False\n",
       "2        False\n",
       "3        False\n",
       "4        False\n",
       "         ...  \n",
       "60327    False\n",
       "60328    False\n",
       "60329    False\n",
       "60330    False\n",
       "60331    False\n",
       "Length: 73327, dtype: bool"
      ]
     },
     "execution_count": 11,
     "metadata": {},
     "output_type": "execute_result"
    }
   ],
   "source": [
    "expanded_df.duplicated()"
   ]
  },
  {
   "cell_type": "code",
   "execution_count": 12,
   "metadata": {},
   "outputs": [],
   "source": [
    "data = expanded_df"
   ]
  },
  {
   "cell_type": "code",
   "execution_count": 13,
   "metadata": {},
   "outputs": [
    {
     "data": {
      "text/html": [
       "<div>\n",
       "<style scoped>\n",
       "    .dataframe tbody tr th:only-of-type {\n",
       "        vertical-align: middle;\n",
       "    }\n",
       "\n",
       "    .dataframe tbody tr th {\n",
       "        vertical-align: top;\n",
       "    }\n",
       "\n",
       "    .dataframe thead th {\n",
       "        text-align: right;\n",
       "    }\n",
       "</style>\n",
       "<table border=\"1\" class=\"dataframe\">\n",
       "  <thead>\n",
       "    <tr style=\"text-align: right;\">\n",
       "      <th></th>\n",
       "      <th>Country</th>\n",
       "      <th>Track Identifier</th>\n",
       "      <th>Media type</th>\n",
       "      <th>Date Played</th>\n",
       "      <th>Hours</th>\n",
       "      <th>Play Duration Milliseconds</th>\n",
       "      <th>End Reason Type</th>\n",
       "      <th>Source Type</th>\n",
       "      <th>Play Count</th>\n",
       "      <th>Skip Count</th>\n",
       "      <th>Track Reference</th>\n",
       "      <th>Track Description</th>\n",
       "    </tr>\n",
       "  </thead>\n",
       "  <tbody>\n",
       "    <tr>\n",
       "      <th>0</th>\n",
       "      <td>United States</td>\n",
       "      <td>1466328298</td>\n",
       "      <td>AUDIO</td>\n",
       "      <td>20191226</td>\n",
       "      <td>16</td>\n",
       "      <td>203272</td>\n",
       "      <td>PLAYBACK_MANUALLY_PAUSED</td>\n",
       "      <td>IPHONE</td>\n",
       "      <td>1</td>\n",
       "      <td>0</td>\n",
       "      <td>1.466328e+09</td>\n",
       "      <td>Key Glock - Spazzing Out</td>\n",
       "    </tr>\n",
       "    <tr>\n",
       "      <th>1</th>\n",
       "      <td>United States</td>\n",
       "      <td>1466328298</td>\n",
       "      <td>AUDIO</td>\n",
       "      <td>20191227</td>\n",
       "      <td>6</td>\n",
       "      <td>517320</td>\n",
       "      <td>MANUALLY_SELECTED_PLAYBACK_OF_A_DIFF_ITEM</td>\n",
       "      <td>IPHONE</td>\n",
       "      <td>3</td>\n",
       "      <td>1</td>\n",
       "      <td>1.466328e+09</td>\n",
       "      <td>Key Glock - Spazzing Out</td>\n",
       "    </tr>\n",
       "    <tr>\n",
       "      <th>2</th>\n",
       "      <td>United States</td>\n",
       "      <td>1466328298</td>\n",
       "      <td>AUDIO</td>\n",
       "      <td>20191227</td>\n",
       "      <td>18</td>\n",
       "      <td>517320</td>\n",
       "      <td>MANUALLY_SELECTED_PLAYBACK_OF_A_DIFF_ITEM</td>\n",
       "      <td>IPHONE</td>\n",
       "      <td>3</td>\n",
       "      <td>1</td>\n",
       "      <td>1.466328e+09</td>\n",
       "      <td>Key Glock - Spazzing Out</td>\n",
       "    </tr>\n",
       "    <tr>\n",
       "      <th>3</th>\n",
       "      <td>United States</td>\n",
       "      <td>1482953532</td>\n",
       "      <td>AUDIO</td>\n",
       "      <td>20191227</td>\n",
       "      <td>6</td>\n",
       "      <td>362874</td>\n",
       "      <td>NATURAL_END_OF_TRACK</td>\n",
       "      <td>IPHONE</td>\n",
       "      <td>2</td>\n",
       "      <td>1</td>\n",
       "      <td>1.482954e+09</td>\n",
       "      <td>YoungBoy Never Broke Again - In Control</td>\n",
       "    </tr>\n",
       "    <tr>\n",
       "      <th>4</th>\n",
       "      <td>United States</td>\n",
       "      <td>1482953532</td>\n",
       "      <td>AUDIO</td>\n",
       "      <td>20191227</td>\n",
       "      <td>18</td>\n",
       "      <td>362874</td>\n",
       "      <td>NATURAL_END_OF_TRACK</td>\n",
       "      <td>IPHONE</td>\n",
       "      <td>2</td>\n",
       "      <td>1</td>\n",
       "      <td>1.482954e+09</td>\n",
       "      <td>YoungBoy Never Broke Again - In Control</td>\n",
       "    </tr>\n",
       "  </tbody>\n",
       "</table>\n",
       "</div>"
      ],
      "text/plain": [
       "         Country  Track Identifier Media type  Date Played Hours  \\\n",
       "0  United States        1466328298      AUDIO     20191226    16   \n",
       "1  United States        1466328298      AUDIO     20191227     6   \n",
       "2  United States        1466328298      AUDIO     20191227    18   \n",
       "3  United States        1482953532      AUDIO     20191227     6   \n",
       "4  United States        1482953532      AUDIO     20191227    18   \n",
       "\n",
       "   Play Duration Milliseconds                            End Reason Type  \\\n",
       "0                      203272                   PLAYBACK_MANUALLY_PAUSED   \n",
       "1                      517320  MANUALLY_SELECTED_PLAYBACK_OF_A_DIFF_ITEM   \n",
       "2                      517320  MANUALLY_SELECTED_PLAYBACK_OF_A_DIFF_ITEM   \n",
       "3                      362874                       NATURAL_END_OF_TRACK   \n",
       "4                      362874                       NATURAL_END_OF_TRACK   \n",
       "\n",
       "  Source Type  Play Count  Skip Count  Track Reference  \\\n",
       "0      IPHONE           1           0     1.466328e+09   \n",
       "1      IPHONE           3           1     1.466328e+09   \n",
       "2      IPHONE           3           1     1.466328e+09   \n",
       "3      IPHONE           2           1     1.482954e+09   \n",
       "4      IPHONE           2           1     1.482954e+09   \n",
       "\n",
       "                         Track Description  \n",
       "0                 Key Glock - Spazzing Out  \n",
       "1                 Key Glock - Spazzing Out  \n",
       "2                 Key Glock - Spazzing Out  \n",
       "3  YoungBoy Never Broke Again - In Control  \n",
       "4  YoungBoy Never Broke Again - In Control  "
      ]
     },
     "execution_count": 13,
     "metadata": {},
     "output_type": "execute_result"
    }
   ],
   "source": [
    "data.head()"
   ]
  },
  {
   "cell_type": "code",
   "execution_count": 14,
   "metadata": {},
   "outputs": [
    {
     "data": {
      "text/plain": [
       "(73327, 12)"
      ]
     },
     "execution_count": 14,
     "metadata": {},
     "output_type": "execute_result"
    }
   ],
   "source": [
    "data.shape"
   ]
  },
  {
   "cell_type": "code",
   "execution_count": 15,
   "metadata": {},
   "outputs": [],
   "source": [
    "data['Play Duration Milliseconds'] = data['Play Duration Milliseconds'].fillna(0)"
   ]
  },
  {
   "cell_type": "code",
   "execution_count": 16,
   "metadata": {},
   "outputs": [],
   "source": [
    "data['Hours'] = data['Hours'].fillna('Unknown')"
   ]
  },
  {
   "cell_type": "code",
   "execution_count": 17,
   "metadata": {},
   "outputs": [
    {
     "name": "stdout",
     "output_type": "stream",
     "text": [
      "<class 'pandas.core.frame.DataFrame'>\n",
      "Index: 73327 entries, 0 to 60331\n",
      "Data columns (total 12 columns):\n",
      " #   Column                      Non-Null Count  Dtype  \n",
      "---  ------                      --------------  -----  \n",
      " 0   Country                     73327 non-null  object \n",
      " 1   Track Identifier            73327 non-null  int64  \n",
      " 2   Media type                  73327 non-null  object \n",
      " 3   Date Played                 73327 non-null  int64  \n",
      " 4   Hours                       73327 non-null  object \n",
      " 5   Play Duration Milliseconds  73327 non-null  int64  \n",
      " 6   End Reason Type             73327 non-null  object \n",
      " 7   Source Type                 73327 non-null  object \n",
      " 8   Play Count                  73327 non-null  int64  \n",
      " 9   Skip Count                  73327 non-null  int64  \n",
      " 10  Track Reference             69437 non-null  float64\n",
      " 11  Track Description           73327 non-null  object \n",
      "dtypes: float64(1), int64(5), object(6)\n",
      "memory usage: 7.3+ MB\n"
     ]
    }
   ],
   "source": [
    "data.info()"
   ]
  },
  {
   "cell_type": "code",
   "execution_count": 19,
   "metadata": {},
   "outputs": [],
   "source": [
    "data['Date Played'] = pd.to_datetime(data['Date Played'], format='%Y%m%d')"
   ]
  },
  {
   "cell_type": "code",
   "execution_count": 21,
   "metadata": {},
   "outputs": [
    {
     "data": {
      "text/plain": [
       "0       2019-12-26\n",
       "1       2019-12-27\n",
       "2       2019-12-27\n",
       "3       2019-12-27\n",
       "4       2019-12-27\n",
       "           ...    \n",
       "60327   2024-11-29\n",
       "60328   2024-11-29\n",
       "60329   2024-11-29\n",
       "60330   2024-11-29\n",
       "60331   2024-11-30\n",
       "Name: Date Played, Length: 73327, dtype: datetime64[ns]"
      ]
     },
     "execution_count": 21,
     "metadata": {},
     "output_type": "execute_result"
    }
   ],
   "source": [
    "data['Date Played']"
   ]
  },
  {
   "cell_type": "code",
   "execution_count": 23,
   "metadata": {},
   "outputs": [],
   "source": [
    "data['Track Description'] = data['Track Description'].str.strip().str.lower()"
   ]
  },
  {
   "cell_type": "code",
   "execution_count": 24,
   "metadata": {},
   "outputs": [
    {
     "data": {
      "text/plain": [
       "0                       key glock - spazzing out\n",
       "1                       key glock - spazzing out\n",
       "2                       key glock - spazzing out\n",
       "3        youngboy never broke again - in control\n",
       "4        youngboy never broke again - in control\n",
       "                          ...                   \n",
       "60327        beyoncé - 6 inch (feat. the weeknd)\n",
       "60328      toosii - rich nigga (feat. key glock)\n",
       "60329       whitney houston - you give good love\n",
       "60330                roddy ricch - late at night\n",
       "60331                    polo g - no more heroes\n",
       "Name: Track Description, Length: 73327, dtype: object"
      ]
     },
     "execution_count": 24,
     "metadata": {},
     "output_type": "execute_result"
    }
   ],
   "source": [
    "data['Track Description']"
   ]
  }
 ],
 "metadata": {
  "kernelspec": {
   "display_name": "Python 3",
   "language": "python",
   "name": "python3"
  },
  "language_info": {
   "codemirror_mode": {
    "name": "ipython",
    "version": 3
   },
   "file_extension": ".py",
   "mimetype": "text/x-python",
   "name": "python",
   "nbconvert_exporter": "python",
   "pygments_lexer": "ipython3",
   "version": "3.9.6"
  }
 },
 "nbformat": 4,
 "nbformat_minor": 2
}
